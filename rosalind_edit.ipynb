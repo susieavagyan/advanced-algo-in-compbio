{
 "cells": [
  {
   "cell_type": "code",
   "execution_count": 1,
   "metadata": {},
   "outputs": [],
   "source": [
    "from Bio import SeqIO\n",
    "\n",
    "seq_name, seq_string = [], []\n",
    "for seq_record in SeqIO.parse(open(\"C:\\\\Users\\\\Tatevik\\\\Downloads\\\\rosalind_edta.txt\", \"r\"),'fasta'):\n",
    "    seq_name.append(seq_record.name)\n",
    "    seq_string.append(str(seq_record.seq))\n",
    "s, t = seq_string"
   ]
  },
  {
   "cell_type": "code",
   "execution_count": 2,
   "metadata": {},
   "outputs": [],
   "source": [
    "dict = {}\n",
    "dict[0,0] = 0\n",
    "for i in range(1, len(s)+1):\n",
    "    dict[i,0] = i\n",
    "for j in range(1, len(t)+1):\n",
    "    dict[0,j] = j\n",
    "\n",
    "def dE(s, t):\n",
    "\n",
    "    len_s = len(s)\n",
    "    len_t = len(t)\n",
    "    key = len_s, len_t\n",
    "        \n",
    "    if len_s == 0:\n",
    "        return len_t\n",
    " \n",
    "    if len_t == 0:\n",
    "        return len_s\n",
    " \n",
    "    if key in dict:\n",
    "        return dict[key]\n",
    "\n",
    "    if s[len_s - 1] == t[len_t - 1]:\n",
    "        dict[len_s, len_t] = dE(s[:len_s-1], t[:len_t-1])\n",
    "        #return dE(s[:len_s-1], t[:len_t-1])\n",
    "    else: \n",
    "        dict[key] = 1 + min(dE(s[:len_s-1], t[:len_t]), \n",
    "                        dE(s[:len_s], t[:len_t-1]), \n",
    "                        dE(s[:len_s-1], t[:len_t-1]))  \n",
    "\n",
    "    return dict[key]"
   ]
  },
  {
   "attachments": {},
   "cell_type": "markdown",
   "metadata": {},
   "source": [
    "without if else for match mismatch"
   ]
  },
  {
   "cell_type": "code",
   "execution_count": 8,
   "metadata": {},
   "outputs": [],
   "source": [
    "dict = {}\n",
    "dict[0,0] = 0\n",
    "for i in range(1, len(s)+1):\n",
    "    dict[i,0] = i\n",
    "for j in range(1, len(t)+1):\n",
    "    dict[0,j] = j\n",
    "\n",
    "def dE(s, t):\n",
    "\n",
    "    len_s = len(s)\n",
    "    len_t = len(t)\n",
    "    key = len_s, len_t\n",
    "        \n",
    "    if len_s == 0:\n",
    "        return len_t\n",
    " \n",
    "    if len_t == 0:\n",
    "        return len_s\n",
    " \n",
    "    if key in dict:\n",
    "        return dict[key]\n",
    "\n",
    "    dict[key] = min(dE(s[:len_s-1], t[:len_t]) + 1, \n",
    "                    dE(s[:len_s], t[:len_t-1]) + 1, \n",
    "                    dE(s[:len_s-1], t[:len_t-1]) + (1 if s[len_s-1] != t[len_t-1] else 0))\n",
    "\n",
    "    return dict[key]"
   ]
  },
  {
   "cell_type": "code",
   "execution_count": 9,
   "metadata": {},
   "outputs": [
    {
     "data": {
      "text/plain": [
       "393"
      ]
     },
     "execution_count": 9,
     "metadata": {},
     "output_type": "execute_result"
    }
   ],
   "source": [
    "dE(s,t)"
   ]
  },
  {
   "cell_type": "code",
   "execution_count": 11,
   "metadata": {},
   "outputs": [
    {
     "data": {
      "text/plain": [
       "686230"
      ]
     },
     "execution_count": 11,
     "metadata": {},
     "output_type": "execute_result"
    }
   ],
   "source": [
    "len(dict)"
   ]
  },
  {
   "cell_type": "code",
   "execution_count": 16,
   "metadata": {},
   "outputs": [
    {
     "data": {
      "text/plain": [
       "686230"
      ]
     },
     "execution_count": 16,
     "metadata": {},
     "output_type": "execute_result"
    }
   ],
   "source": [
    "(len(s)+1)*(len(t)+1)"
   ]
  },
  {
   "cell_type": "code",
   "execution_count": null,
   "metadata": {},
   "outputs": [],
   "source": []
  }
 ],
 "metadata": {
  "kernelspec": {
   "display_name": "base 1",
   "language": "python",
   "name": "python3"
  },
  "language_info": {
   "codemirror_mode": {
    "name": "ipython",
    "version": 3
   },
   "file_extension": ".py",
   "mimetype": "text/x-python",
   "name": "python",
   "nbconvert_exporter": "python",
   "pygments_lexer": "ipython3",
   "version": "3.8.8"
  },
  "orig_nbformat": 4,
  "vscode": {
   "interpreter": {
    "hash": "9de985984da8dfb17574444e24fa0e1c4abc9ab8cc2d3e644578c05d50f82108"
   }
  }
 },
 "nbformat": 4,
 "nbformat_minor": 2
}
