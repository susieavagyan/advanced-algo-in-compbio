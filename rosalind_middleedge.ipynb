{
 "cells": [
  {
   "cell_type": "code",
   "execution_count": 158,
   "metadata": {},
   "outputs": [],
   "source": [
    "import numpy as np\n",
    "with open(\"rosalind_ba5k.txt\") as f:\n",
    "    strings = [line.rstrip() for line in f.readlines()]\n",
    "\n",
    "s,t = strings[0], strings[1]\n",
    "\n"
   ]
  },
  {
   "cell_type": "code",
   "execution_count": 159,
   "metadata": {},
   "outputs": [],
   "source": [
    "blosum62 = [    \n",
    "    [4, 0, -2, -1, -2, 0, -2, -1, -1, -1, -1, -2, -1, -1, -1, 1, 0, 0, -3, -2],\n",
    "    [0, 9, -3, -4, -2, -3, -3, -1, -3, -1, -1, -3, -3, -3, -3, -1, -1, -1, -2, -2],\n",
    "    [-2, -3, 6, 2, -3, -1, -1, -3, -1, -4, -3, 1, -1, 0, -2, 0, -1, -3, -4, -3],\n",
    "    [-1, -4, 2, 5, -3, -2, 0, -3, 1, -3, -2, 0, -1, 2, 0, 0, -1, -2, -3, -2],\n",
    "    [-2, -2, -3, -3, 6, -3, -1, 0, -3, 0, 0, -3, -4, -3, -3, -2, -2, -1, 1, 3],\n",
    "    [0, -3, -1, -2, -3, 6, -2, -4, -2, -4, -3, 0, -2, -2, -2, 0, -2, -3, -2, -3],\n",
    "    [-2, -3, -1, 0, -1, -2, 8, -3, -1, -3, -2, 1, -2, 0, 0, -1, -2, -3, -2, 2],\n",
    "    [-1, -1, -3, -3, 0, -4, -3, 4, -3, 2, 1, -3, -3, -3, -3, -2, -1, 3, -3, -1],\n",
    "    [-1, -3, -1, 1, -3, -2, -1, -3, 5, -2, -1, 0, -1, 1, 2, 0, -1, -2, -3, -2],\n",
    "    [-1, -1, -4, -3, 0, -4, -3, 2, -2, 4, 2, -3, -3, -2, -2, -2, -1, 1, -2, -1],\n",
    "    [-1, -1, -3, -2, 0, -3, -2, 1, -1, 2, 5, -2, -2, 0, -1, -1, -1, 1, -1, -1],\n",
    "    [-2, -3, 1, 0, -3, 0, 1, -3, 0, -3, -2, 6, -2, 0, 0, 1, 0, -3, -4, -2],\n",
    "    [-1, -3, -1, -1, -4, -2, -2, -3, -1, -3, -2, -2, 7, -1, -2, -1, -1, -2, -4, -3],\n",
    "    [-1, -3, 0, 2, -3, -2, 0, -3, 1, -2, 0, 0, -1, 5, 1, 0, -1, -2, -2, -1],\n",
    "    [-1, -3, -2,  0, -3, -2, 0, -3, 2, -2, -1,  0, -2, 1, 5, -1, -1, -3, -3, -2],\n",
    "    [1, -1, 0, 0, -2, 0, -1, -2, 0, -2, -1, 1, -1, 0, -1, 4, 1, -2, -3, -2], \n",
    "    [0, -1, -1, -1, -2, -2, -2, -1, -1, -1, -1, 0, -1, -1, -1, 1, 5, 0, -2, -2],\n",
    "    [0, -1, -3, -2, -1, -3, -3, 3, -2, 1, 1, -3, -2, -2, -3, -2, 0, 4, -3, -1],\n",
    "    [-3, -2, -4, -3, 1, -2, -2, -3, -3, -2, -1, -4, -4, -2, -3, -3, -2, -3, 11, 2],\n",
    "    [-2, -2, -3, -2,  3, -3, 2, -1, -2, -1, -1, -2, -3, -1, -2, -2, -2, -1,  2, 7]]\n",
    "blosum62_aa = ['A', 'C', 'D', 'E', 'F', 'G', 'H', 'I', 'K', 'L', 'M', 'N', 'P', 'Q', 'R', 'S', 'T', 'V', 'W', 'Y']\n",
    "blosum62_idx = dict(zip(blosum62_aa, range(len(blosum62_aa))))\n"
   ]
  },
  {
   "cell_type": "code",
   "execution_count": 160,
   "metadata": {},
   "outputs": [],
   "source": [
    "def best_score(s, t, col, cost):\n",
    "    #initiate prev column\n",
    "    prev = [-(i * cost) for i in range(len(s)+1)]\n",
    "    for j in range(1,col+1):\n",
    "        #initiate curr column\n",
    "        curr = [0 for k in range(len(s)+1)]\n",
    "        #first value comes from gap\n",
    "        curr[0] = - j * cost\n",
    "        #for each row \n",
    "        for i in range(1,len(s)+1):\n",
    "            scores = [prev[i-1] + blosum62[blosum62_idx[s[i-1]]][blosum62_idx[t[j-1]]],\n",
    "                    curr[i-1]  - cost,\n",
    "                    prev[i]   - cost]\n",
    "\n",
    "            best = np.argmax(scores)\n",
    "            curr[i] = scores[best]\n",
    "\n",
    "        #update prev and curr\n",
    "        prev = curr\n",
    "        # print(curr)\n",
    "    return curr\n",
    "\n",
    "\n"
   ]
  },
  {
   "cell_type": "code",
   "execution_count": 161,
   "metadata": {},
   "outputs": [],
   "source": [
    "middle_column = len(t)//2\n",
    "#find best score for the first half of the matrix\n",
    "f = best_score(s, t, middle_column, 5) #f[i] is the edit distance of t[0,middle_column] to s[0,i-1]\n",
    "#find best score for the second half of the matrix\n",
    "g = best_score(s[::-1],t[::-1],len(t) - middle_column, 5)[::-1] #g[i] is the edit distance of t[middle_column+1, len(t)] to s[i, len(s)]\n",
    "## note g column's 0th element is next to f columns 1st element, because of the position of placeholder gap row on the reversed half of the matrix"
   ]
  },
  {
   "cell_type": "code",
   "execution_count": 162,
   "metadata": {},
   "outputs": [],
   "source": [
    "#scores of edges of transition between first and second half of the matrix\n",
    "# f_e_g[i,k], where k is 0 or 1 is the length of the shortest path that goes through edge i,k; \n",
    "f_e_g = {}\n"
   ]
  },
  {
   "cell_type": "code",
   "execution_count": 163,
   "metadata": {},
   "outputs": [],
   "source": [
    "import math"
   ]
  },
  {
   "cell_type": "code",
   "execution_count": 164,
   "metadata": {},
   "outputs": [],
   "source": [
    "for i in range(0,len(s)+1):\n",
    "    # 1 for indel, horizontal move, e.g (1,1) -> (1,2)\n",
    "    # 0 for match/mismatch, diagonal move, e.g. (1,1) -> (2,2)\n",
    "    # \n",
    "    if i < len(s): # check for i to not be the last cell of the column, so a diagonal move is possible\n",
    "        f_e_g[i,0] = f[i] + g[i] + blosum62[blosum62_idx[s[i]]][blosum62_idx[t[middle_column]]]\n",
    "    else:\n",
    "        f_e_g[i,0] = -math.inf\n",
    "    \n",
    "    if i != 0:  # check for i to not be the first cell of the column, so a horizontal move is possible\n",
    "         f_e_g[i,1] = f[i] + g[i-1] - 5\n",
    "    else:\n",
    "         f_e_g[i,1] = -math.inf\n",
    "\n"
   ]
  },
  {
   "cell_type": "code",
   "execution_count": 165,
   "metadata": {},
   "outputs": [
    {
     "name": "stdout",
     "output_type": "stream",
     "text": [
      "(502, 523) (503, 524)\n"
     ]
    }
   ],
   "source": [
    "max_ = max(f_e_g, key=f_e_g.get)\n",
    "from_i = max_[0]\n",
    "from_j = middle_column\n",
    "if max_[1] == 0:\n",
    "    to_i = from_i+1\n",
    "    to_j = from_j+1\n",
    "elif max_[1] == 1:\n",
    "    to_i = from_i\n",
    "    to_j = from_j+1\n",
    "elif max_[1] == 2:\n",
    "    to_i = from_i+1\n",
    "    to_j = from_j\n",
    "\n",
    "print((from_i, from_j),(to_i , to_j))\n"
   ]
  },
  {
   "cell_type": "code",
   "execution_count": null,
   "metadata": {},
   "outputs": [],
   "source": []
  },
  {
   "cell_type": "code",
   "execution_count": null,
   "metadata": {},
   "outputs": [],
   "source": []
  }
 ],
 "metadata": {
  "kernelspec": {
   "display_name": "Python 3",
   "language": "python",
   "name": "python3"
  },
  "language_info": {
   "codemirror_mode": {
    "name": "ipython",
    "version": 3
   },
   "file_extension": ".py",
   "mimetype": "text/x-python",
   "name": "python",
   "nbconvert_exporter": "python",
   "pygments_lexer": "ipython3",
   "version": "3.10.10"
  },
  "orig_nbformat": 4
 },
 "nbformat": 4,
 "nbformat_minor": 2
}
