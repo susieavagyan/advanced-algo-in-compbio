{
  "nbformat": 4,
  "nbformat_minor": 0,
  "metadata": {
    "colab": {
      "provenance": []
    },
    "kernelspec": {
      "name": "python3",
      "display_name": "Python 3"
    },
    "language_info": {
      "name": "python"
    }
  },
  "cells": [
    {
      "cell_type": "code",
      "source": [
        "dataset = open(\"/aspc.txt\").read()\n",
        "n, m = map(int, dataset.strip().split())"
      ],
      "metadata": {
        "id": "aMeu9kzOKrGr"
      },
      "execution_count": 13,
      "outputs": []
    },
    {
      "cell_type": "code",
      "source": [
        "m"
      ],
      "metadata": {
        "colab": {
          "base_uri": "https://localhost:8080/"
        },
        "id": "Teg3XaNjLI-X",
        "outputId": "336a88bb-fbb1-4e1e-8bc3-1713019396f2"
      },
      "execution_count": 17,
      "outputs": [
        {
          "output_type": "execute_result",
          "data": {
            "text/plain": [
              "849"
            ]
          },
          "metadata": {},
          "execution_count": 17
        }
      ]
    },
    {
      "cell_type": "code",
      "execution_count": 18,
      "metadata": {
        "id": "w4qmAqdjIWlk"
      },
      "outputs": [],
      "source": [
        "import math\n",
        "##C(n,k)=n!/k!*(n−k)!\n",
        "\n",
        "def comb(a, b):\n",
        "  n = max(a,b)\n",
        "  m = min(a,b)\n",
        "  sum = 0\n",
        "  for k in range(m,n+1):\n",
        "    c = math.factorial(n)//(math.factorial(k)*math.factorial(n-k))\n",
        "    sum +=c\n",
        "  return sum%1000000"
      ]
    },
    {
      "cell_type": "code",
      "source": [
        "comb(n,m)"
      ],
      "metadata": {
        "colab": {
          "base_uri": "https://localhost:8080/"
        },
        "id": "oiEiqGFWJz2c",
        "outputId": "c50db47e-827a-4417-a3bd-a55c9b35ba59"
      },
      "execution_count": 19,
      "outputs": [
        {
          "output_type": "execute_result",
          "data": {
            "text/plain": [
              "144328"
            ]
          },
          "metadata": {},
          "execution_count": 19
        }
      ]
    },
    {
      "cell_type": "code",
      "source": [],
      "metadata": {
        "id": "Vg5LrYxNLHwp"
      },
      "execution_count": null,
      "outputs": []
    }
  ]
}