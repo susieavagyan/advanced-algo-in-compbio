{
 "cells": [
  {
   "cell_type": "code",
   "execution_count": 1,
   "metadata": {},
   "outputs": [],
   "source": [
    "from Bio import SeqIO\n",
    "\n",
    "seq_name, seq_string = [], []\n",
    "for seq_record in SeqIO.parse(open(\"C:\\\\Users\\\\Tatevik\\\\Downloads\\\\rosalind_edta.txt\", \"r\"),'fasta'):\n",
    "    seq_name.append(seq_record.name)\n",
    "    seq_string.append(str(seq_record.seq))\n",
    "s, t = seq_string"
   ]
  },
  {
   "cell_type": "code",
   "execution_count": 2,
   "metadata": {},
   "outputs": [],
   "source": [
    "dict = {}\n",
    "dict[0,0] = 0\n",
    "for i in range(1, len(s)+1):\n",
    "    dict[i,0] = i\n",
    "for j in range(1, len(t)+1):\n",
    "    dict[0,j] = j\n",
    "\n",
    "def dE(s, t):\n",
    "\n",
    "    len_s = len(s)\n",
    "    len_t = len(t)\n",
    "    key = len_s, len_t\n",
    "\n",
    "    for i in range(1, len_s+1):\n",
    "        for j in range(1, len_t+1):\n",
    "            left = dict[i-1,j] + 1\n",
    "            down = dict[i,j-1] + 1\n",
    "            left_down = dict[i-1,j-1]\n",
    "            if s[i-1] != t[j-1]:\n",
    "                left_down += 1\n",
    "            dict[i,j] = min(left, down, left_down)\n",
    "    \n",
    "    return dict[len_s, len_t]"
   ]
  },
  {
   "cell_type": "code",
   "execution_count": 3,
   "metadata": {},
   "outputs": [
    {
     "data": {
      "text/plain": [
       "332"
      ]
     },
     "execution_count": 3,
     "metadata": {},
     "output_type": "execute_result"
    }
   ],
   "source": [
    "dE(s,t)"
   ]
  },
  {
   "cell_type": "code",
   "execution_count": 5,
   "metadata": {},
   "outputs": [
    {
     "name": "stdout",
     "output_type": "stream",
     "text": [
      "ACINTLTQTTAFLVRAPSFAKVDALYFFVYDQLCETCMSNTNPKSTTAHFAPRW-LTIVYYDDSARVVRTRSRLRMVYWLARIMCPKY-DGRCFAFYNELINMCRFCIEKVLYMVVLQYLC---AK----HANCLDKTYNRESMARRGFNKD-KMS-V---SVA------KYAIWTVWQTHIKYKG--I-PVAGCPWQMQEECLWSRTISCVGAQCKEKTVQDWWVEVAGQNVRM------SCDMGLDK------CFRADDQGKRGS----MAHTHLCFVYC-----HRTPLDFGKYIRWCEMPGSWIKWFGFWQHQSCENPFKG--N------AQDGQNIY-----HHYKAEYWW---Q-----SLHCIHKIRFKCQYWM---NA-N-----QIAPPGQYYGHCDKNHGPLHINC--KGIQ----WTFWQWRNTAQDHFDMYQCTIQRIARGNAIIWAGTDHMSIQW----Y--QDFCMVLR-SQTPMVHHA------GFSLSHWDTVRYRYNGMQTRNYQQ-Q-DINFGMSQTFLGPDPEA-----YHNQLIATFDRFIGNEDRMSGQVPNQGVGAQVLGKATILVHGCFHTVKMC----SMANQSCTEQELHSKNGNWMNCICVRCMTPCLLDTMQSAIWEPWVPYIHVEQLMC----TGDTVCPGFK--WIPFAVTAYFTHTR----GCYLNRGKGLERTAPERKGMGIQFCLARFRQRYWKFIWKDNHNNEYNATKPANCTETIWPGMTMLHHQFMLRETWAYEYRDPCKKVHPWFLWQPDAHVQTFPNLYIMKPWSDFKYWTALHLKQFIGYCH-N-PVVLNWQLRKTKMTVRGFGRMCDMDHVYYGTGSLGEQSDLQIENRRHECNDRPVQFGGHKKNSPRG----MQVHVTTNHDMAEMVVDQADEWHCSWY------NEAIKC-ENHNWFMTWA------YSHESVKQRGRGCP---VIYHEQYGFCFPRYTFTANLECAKCATPLDVKQDPEVKMLLRR-----EIN\n",
      "ACINTLTQTTAFLVRAPSFAKVDALYFFVYDQLWETCMSN---------FAPRIDLTIVYYDDSGRMV--------DDWLARIMCPKYYDW-CFAFYNYLIRMCRFCIEKVLYMVYLQYLTVNEAKRAAKHANCLDK-----SMARRGFNKPCKFNLVLWISVSHYSEMFKYAIWTK-QSYMKCWQPHIIPVAGCPWQMQEECLWSRTISLVGAQCKEKEKLTCMYYWAGQNVRWEFYTTFSCDMGTDPLHLHAICFRADDQIKRNYPQEQMAHTHLCCVPMVIMKFHRTPLDFGKYIRWCEMPGSWI--F--WQHQSCINPFKGTLNIIMMFYAQDGQNIDENEFWHHYKAEYWMMCKQQNMDQSLHCIHKGRFKCQYWRFVRNITNNEGRNQIAPPGQYYGH----HGLLHINRGYKGISYKFFWEFWQWRNTAQDHFDD--CTIQDIARGNAIIWAGADHMSIGFARKPYSYQDFCMVSVHSQTPMVHHMSNWYRNGFSLSHWDTV-----GMQTRNYQPIQMDINFGMSQTFLGPDPRAFAACAYHNQLIALFDRFIGNEDEMSGQV---G--AQVLGKATILVHGCFHTVKMELAYISMANQSCRVGELHSKNPNWMNC-C-------LLDTMHSAIWEPWVPYIHVEILHEDISWTGDTVCPGNSARWIMFAVTAYFTHTKQEHKGCYLSRGKGLFRTAPERKGMGIQFYLARFRQRYWKFIWKCNHNNEYNATKPANCTETIWPGMTMLHHQFK-RETWAYEYRDPCAKVHPYFLNQDDAHVQCI-NAF--KSWSDFKYWTAL------GYCQWNNPV-L----RY-------FGRMFDMDHVYYGLGSLGEQSDLQIENR-HECNDRPVQFEGHKKNSPKNSYNAMQVHVTTNHDMAEHHVDQADEWHCSVNTHRQVVNRAIKIGENHNWFMTWFFPQFDTYSHESVKQRGRWCNRAHVIYYEQYGFCFPRYTFTANLECADVKVPNRV--DPEVKMLLRWPCWIVEIN\n"
     ]
    }
   ],
   "source": [
    "s_augment, t_augment = \"\", \"\"\n",
    "i, j = len(s), len(t)\n",
    "while (i>0 and j>0):\n",
    "    left = dict[i, j-1]\n",
    "    up = dict[i-1, j]\n",
    "    diag = dict[i-1, j-1]\n",
    "    if dict[i, j]==min(left, up, diag):\n",
    "        s_augment = s[i-1] + s_augment\n",
    "        t_augment = t[j-1] + t_augment\n",
    "        i -= 1\n",
    "        j -= 1\n",
    "    else:\n",
    "        if (min(left, up, diag)==left and min(left, up, diag)==up) or (min(left, up, diag)!=left and min(left, up, diag)!=up):\n",
    "            s_augment = s[i-1] + s_augment\n",
    "            t_augment = t[j-1] + t_augment\n",
    "            i -= 1\n",
    "            j -= 1\n",
    "        elif min(left, up, diag)!=left and min(left, up, diag)==up:\n",
    "            s_augment = s[i-1] + s_augment\n",
    "            t_augment = \"-\" + t_augment\n",
    "            i -= 1\n",
    "        elif min(left, up, diag)==left and min(left, up, diag)!=up:\n",
    "            s_augment = \"-\" + s_augment\n",
    "            t_augment = t[j-1] + t_augment\n",
    "            j -= 1\n",
    "\n",
    "            \n",
    "print(s_augment)\n",
    "print(t_augment)"
   ]
  },
  {
   "cell_type": "code",
   "execution_count": null,
   "metadata": {},
   "outputs": [],
   "source": []
  }
 ],
 "metadata": {
  "kernelspec": {
   "display_name": "base 1",
   "language": "python",
   "name": "python3"
  },
  "language_info": {
   "codemirror_mode": {
    "name": "ipython",
    "version": 3
   },
   "file_extension": ".py",
   "mimetype": "text/x-python",
   "name": "python",
   "nbconvert_exporter": "python",
   "pygments_lexer": "ipython3",
   "version": "3.8.8"
  },
  "orig_nbformat": 4,
  "vscode": {
   "interpreter": {
    "hash": "9de985984da8dfb17574444e24fa0e1c4abc9ab8cc2d3e644578c05d50f82108"
   }
  }
 },
 "nbformat": 4,
 "nbformat_minor": 2
}
