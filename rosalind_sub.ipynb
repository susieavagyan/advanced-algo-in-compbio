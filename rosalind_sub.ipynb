{
 "cells": [
  {
   "cell_type": "code",
   "execution_count": 59,
   "metadata": {},
   "outputs": [],
   "source": [
    "with open(\"rosalind_subs.txt\") as f:\n",
    "    strings = [line.rstrip() for line in f.readlines()]"
   ]
  },
  {
   "cell_type": "code",
   "execution_count": 60,
   "metadata": {},
   "outputs": [
    {
     "name": "stdout",
     "output_type": "stream",
     "text": [
      "54 73 110 140 157 208 234 315 322 337 344 351 368 375 402 449 573 611 630 686 767 813 837 858 865 872 879 886 894\n"
     ]
    }
   ],
   "source": [
    "def find_substring_locations(s, t):\n",
    "    locations = []\n",
    "    for i in range(len(s) - len(t) + 1):\n",
    "        if s[i:i+len(t)] == t:\n",
    "            locations.append(i+1)\n",
    "    return locations\n",
    "\n",
    "\n",
    "locations = find_substring_locations(strings[0], strings[1])\n",
    "print(\" \".join([str(i) for i in locations]))\n"
   ]
  },
  {
   "cell_type": "code",
   "execution_count": 61,
   "metadata": {},
   "outputs": [
    {
     "name": "stdout",
     "output_type": "stream",
     "text": [
      "[('TCTACAAGA', 7), ('CTACAAGAG', 29), ('TACAAGAGA', 8), ('ACAAGAGAT', 28), ('CAAGAGATG', 9), ('AAGAGATGT', 27), ('AGAGATGTA', 21), ('GAGATGTAC', 17), ('AGATGTACG', 18), ('GATGTACGA', 10), ('ATGTACGAA', 9), ('TGTACGAAG', 15), ('GTACGAAGA', 18), ('TACGAAGAG', 13), ('ACGAAGAGA', 11), ('CGAAGAGAT', 7), ('GAAGAGATC', 20), ('AAGAGATCG', 7), ('AGAGATCGG', 27), ('GAGATCGGG', 25), ('AGATCGGGT', 11), ('GATCGGGTA', 5), ('ATCGGGTAA', 1), ('TCGGGTAAG', 4), ('CGGGTAAGA', 9), ('GGGTAAGAG', 0), ('GGTAAGAGA', 17), ('GTAAGAGAT', 5), ('TAAGAGATC', 18), ('AAGAGATCT', 17), ('AGAGATCTC', 15), ('GAGATCTCT', 22), ('AGATCTCTA', 21), ('GATCTCTAA', 29), ('ATCTCTAAG', 7), ('TCTCTAAGA', 20), ('CTCTAAGAG', 30), ('TCTAAGAGA', 7), ('CTAAGAGAT', 26), ('TAAGAGATG', 3), ('AAGAGATGA', 23), ('AGAGATGAC', 10), ('GAGATGACC', 24), ('AGATGACCG', 22), ('GATGACCGG', 27), ('ATGACCGGA', 4), ('TGACCGGAA', 13), ('GACCGGAAG', 25), ('ACCGGAAGA', 0), ('CCGGAAGAG', 20), ('CGGAAGAGA', 0), ('GGAAGAGAT', 8), ('GAAGAGATA', 3), ('AAGAGATAA', 29), ('AGAGATAAG', 28), ('GAGATAAGA', 12), ('AGATAAGAG', 26), ('GATAAGAGA', 18), ('ATAAGAGAT', 6), ('TAAGAGATG', 3), ('AAGAGATGG', 0), ('AGAGATGGT', 9), ('GAGATGGTC', 9), ('AGATGGTCT', 20), ('GATGGTCTA', 21), ('ATGGTCTAA', 22), ('TGGTCTAAG', 9), ('GGTCTAAGA', 27), ('GTCTAAGAG', 22), ('TCTAAGAGA', 7), ('CTAAGAGAT', 26), ('TAAGAGATA', 26), ('AAGAGATAA', 29), ('AGAGATAAA', 26), ('GAGATAAAG', 12), ('AGATAAAGA', 17), ('GATAAAGAG', 28), ('ATAAAGAGA', 10), ('TAAAGAGAT', 14), ('AAAGAGATG', 20), ('AAGAGATGT', 27), ('AGAGATGTG', 13), ('GAGATGTGG', 8), ('AGATGTGGA', 22), ('GATGTGGAC', 29), ('ATGTGGACC', 7), ('TGTGGACCC', 13), ('GTGGACCCC', 17), ('TGGACCCCA', 28), ('GGACCCCAA', 30), ('GACCCCAAG', 19), ('ACCCCAAGA', 24), ('CCCCAAGAG', 15), ('CCCAAGAGA', 28), ('CCAAGAGAT', 27), ('CAAGAGATT', 2), ('AAGAGATTT', 14), ('AGAGATTTT', 27), ('GAGATTTTC', 26), ('AGATTTTCT', 14), ('GATTTTCTT', 27), ('ATTTTCTTA', 6), ('TTTTCTTAA', 6), ('TTTCTTAAG', 1), ('TTCTTAAGA', 4), ('TCTTAAGAG', 24), ('CTTAAGAGA', 2), ('TTAAGAGAT', 13), ('TAAGAGATA', 26), ('AAGAGATAA', 29), ('AGAGATAAA', 26), ('GAGATAAAA', 30), ('AGATAAAAG', 29), ('GATAAAAGA', 11), ('ATAAAAGAG', 21), ('TAAAAGAGA', 18), ('AAAAGAGAT', 19), ('AAAGAGATC', 21), ('AAGAGATCT', 17), ('AGAGATCTA', 1), ('GAGATCTAA', 8), ('AGATCTAAG', 2), ('GATCTAAGA', 11), ('ATCTAAGAG', 1), ('TCTAAGAGA', 7), ('CTAAGAGAT', 26), ('TAAGAGATT', 11), ('AAGAGATTG', 14), ('AGAGATTGC', 12), ('GAGATTGCG', 16), ('AGATTGCGT', 21), ('GATTGCGTA', 8), ('ATTGCGTAA', 8), ('TTGCGTAAG', 8), ('TGCGTAAGA', 26), ('GCGTAAGAG', 25), ('CGTAAGAGA', 18), ('GTAAGAGAT', 5), ('TAAGAGATA', 26), ('AAGAGATAA', 29), ('AGAGATAAG', 28), ('GAGATAAGA', 12), ('AGATAAGAG', 26), ('GATAAGAGA', 18), ('ATAAGAGAT', 6), ('TAAGAGATT', 11), ('AAGAGATTA', 30), ('AGAGATTAA', 15), ('GAGATTAAA', 24), ('AGATTAAAA', 9), ('GATTAAAAG', 11), ('ATTAAAAGA', 5), ('TTAAAAGAG', 28), ('TAAAAGAGA', 18), ('AAAAGAGAT', 19), ('AAAGAGATA', 21), ('AAGAGATAA', 29), ('AGAGATAAA', 26), ('GAGATAAAG', 12), ('AGATAAAGA', 17), ('GATAAAGAG', 28), ('ATAAAGAGA', 10), ('TAAAGAGAT', 14), ('AAAGAGATG', 20), ('AAGAGATGA', 23), ('AGAGATGAT', 2), ('GAGATGATA', 5), ('AGATGATAA', 4), ('GATGATAAG', 30), ('ATGATAAGA', 29), ('TGATAAGAG', 19), ('GATAAGAGA', 18), ('ATAAGAGAT', 6), ('TAAGAGATA', 26), ('AAGAGATAC', 17), ('AGAGATACA', 21), ('GAGATACAA', 6), ('AGATACAAA', 23), ('GATACAAAA', 25), ('ATACAAAAG', 19), ('TACAAAAGA', 23), ('ACAAAAGAG', 29), ('CAAAAGAGA', 19), ('AAAAGAGAT', 19), ('AAAGAGATG', 20), ('AAGAGATGG', 0), ('AGAGATGGA', 25), ('GAGATGGAA', 12), ('AGATGGAAG', 18), ('GATGGAAGA', 28), ('ATGGAAGAG', 2), ('TGGAAGAGA', 28), ('GGAAGAGAT', 8), ('GAAGAGATT', 11), ('AAGAGATTG', 14), ('AGAGATTGT', 10), ('GAGATTGTG', 5), ('AGATTGTGT', 13), ('GATTGTGTT', 30), ('ATTGTGTTA', 24), ('TTGTGTTAA', 11), ('TGTGTTAAG', 8), ('GTGTTAAGA', 16), ('TGTTAAGAG', 10), ('GTTAAGAGA', 24), ('TTAAGAGAT', 13), ('TAAGAGATA', 26), ('AAGAGATAA', 29), ('AGAGATAAG', 28), ('GAGATAAGA', 12), ('AGATAAGAG', 26), ('GATAAGAGA', 18), ('ATAAGAGAT', 6), ('TAAGAGATC', 18), ('AAGAGATCG', 7), ('AGAGATCGA', 18), ('GAGATCGAG', 12), ('AGATCGAGA', 0), ('GATCGAGAA', 4), ('ATCGAGAAG', 19), ('TCGAGAAGA', 24), ('CGAGAAGAG', 26), ('GAGAAGAGA', 23), ('AGAAGAGAT', 13), ('GAAGAGATC', 20), ('AAGAGATCA', 0), ('AGAGATCAA', 0), ('GAGATCAAG', 22), ('AGATCAAGA', 25), ('GATCAAGAG', 14), ('ATCAAGAGA', 16), ('TCAAGAGAT', 6), ('CAAGAGATA', 5), ('AAGAGATAA', 29), ('AGAGATAAA', 26), ('GAGATAAAG', 12), ('AGATAAAGA', 17), ('GATAAAGAG', 28), ('ATAAAGAGA', 10), ('TAAAGAGAT', 14), ('AAAGAGATT', 20), ('AAGAGATTT', 14), ('AGAGATTTT', 27), ('GAGATTTTT', 25), ('AGATTTTTG', 8), ('GATTTTTGT', 15), ('ATTTTTGTT', 8), ('TTTTTGTTA', 12), ('TTTTGTTAA', 21), ('TTTGTTAAG', 23), ('TTGTTAAGA', 21), ('TGTTAAGAG', 10), ('GTTAAGAGA', 24), ('TTAAGAGAT', 13), ('TAAGAGATT', 11), ('AAGAGATTT', 14), ('AGAGATTTA', 7), ('GAGATTTAA', 12), ('AGATTTAAG', 21), ('GATTTAAGA', 13), ('ATTTAAGAG', 3), ('TTTAAGAGA', 29), ('TTAAGAGAT', 13), ('TAAGAGATG', 3), ('AAGAGATGT', 27), ('AGAGATGTA', 21), ('GAGATGTAA', 19), ('AGATGTAAG', 14), ('GATGTAAGA', 7), ('ATGTAAGAG', 20), ('TGTAAGAGA', 11), ('GTAAGAGAT', 5), ('TAAGAGATT', 11), ('AAGAGATTA', 30), ('AGAGATTAA', 15), ('GAGATTAAG', 10), ('AGATTAAGA', 15), ('GATTAAGAG', 6), ('ATTAAGAGA', 22), ('TTAAGAGAT', 13), ('TAAGAGATT', 11), ('AAGAGATTA', 30), ('AGAGATTAA', 15), ('GAGATTAAT', 21), ('AGATTAATC', 23), ('GATTAATCA', 16), ('ATTAATCAA', 2), ('TTAATCAAG', 6), ('TAATCAAGA', 19), ('AATCAAGAG', 21), ('ATCAAGAGA', 16), ('TCAAGAGAT', 6), ('CAAGAGATC', 24), ('AAGAGATCT', 17), ('AGAGATCTC', 15), ('GAGATCTCT', 22), ('AGATCTCTA', 21), ('GATCTCTAA', 29), ('ATCTCTAAG', 7), ('TCTCTAAGA', 20), ('CTCTAAGAG', 30), ('TCTAAGAGA', 7), ('CTAAGAGAT', 26), ('TAAGAGATG', 3), ('AAGAGATGC', 15), ('AGAGATGCG', 28), ('GAGATGCGA', 5), ('AGATGCGAA', 26), ('GATGCGAAG', 29), ('ATGCGAAGA', 19), ('TGCGAAGAG', 18), ('GCGAAGAGA', 20), ('CGAAGAGAT', 7), ('GAAGAGATA', 3), ('AAGAGATAA', 29), ('AGAGATAAG', 28), ('GAGATAAGA', 12), ('AGATAAGAG', 26), ('GATAAGAGA', 18), ('ATAAGAGAT', 6), ('TAAGAGATA', 26), ('AAGAGATAA', 29), ('AGAGATAAG', 28), ('GAGATAAGA', 12), ('AGATAAGAG', 26), ('GATAAGAGA', 18), ('ATAAGAGAT', 6), ('TAAGAGATG', 3), ('AAGAGATGA', 23), ('AGAGATGAA', 17), ('GAGATGAAG', 4), ('AGATGAAGA', 24), ('GATGAAGAG', 16), ('ATGAAGAGA', 14), ('TGAAGAGAT', 30), ('GAAGAGATA', 3), ('AAGAGATAA', 29), ('AGAGATAAG', 28), ('GAGATAAGA', 12), ('AGATAAGAG', 26), ('GATAAGAGA', 18), ('ATAAGAGAT', 6), ('TAAGAGATA', 26), ('AAGAGATAA', 29), ('AGAGATAAG', 28), ('GAGATAAGA', 12), ('AGATAAGAG', 26), ('GATAAGAGA', 18), ('ATAAGAGAT', 6), ('TAAGAGATA', 26), ('AAGAGATAA', 29), ('AGAGATAAG', 28), ('GAGATAAGA', 12), ('AGATAAGAG', 26), ('GATAAGAGA', 18), ('ATAAGAGAT', 6), ('TAAGAGATG', 3), ('AAGAGATGC', 15), ('AGAGATGCC', 24), ('GAGATGCCA', 26), ('AGATGCCAA', 29), ('GATGCCAAG', 21), ('ATGCCAAGA', 7), ('TGCCAAGAG', 19), ('GCCAAGAGA', 9), ('CCAAGAGAT', 27), ('CAAGAGATA', 5), ('AAGAGATAA', 29), ('AGAGATAAG', 28), ('GAGATAAGA', 12), ('AGATAAGAG', 26), ('GATAAGAGA', 18), ('ATAAGAGAT', 6), ('TAAGAGATA', 26), ('AAGAGATAA', 29), ('AGAGATAAG', 28), ('GAGATAAGA', 12), ('AGATAAGAG', 26), ('GATAAGAGA', 18), ('ATAAGAGAT', 6), ('TAAGAGATT', 11), ('AAGAGATTG', 14), ('AGAGATTGG', 11), ('GAGATTGGT', 2), ('AGATTGGTA', 29), ('GATTGGTAG', 2), ('ATTGGTAGG', 0), ('TTGGTAGGT', 8), ('TGGTAGGTG', 5), ('GGTAGGTGC', 28), ('GTAGGTGCC', 4), ('TAGGTGCCT', 23), ('AGGTGCCTA', 23), ('GGTGCCTAA', 20), ('GTGCCTAAA', 14), ('TGCCTAAAG', 6), ('GCCTAAAGA', 6), ('CCTAAAGAG', 4), ('CTAAAGAGA', 28), ('TAAAGAGAT', 14), ('AAAGAGATA', 21), ('AAGAGATAA', 29), ('AGAGATAAG', 28), ('GAGATAAGA', 12), ('AGATAAGAG', 26), ('GATAAGAGA', 18), ('ATAAGAGAT', 6), ('TAAGAGATT', 11), ('AAGAGATTA', 30), ('AGAGATTAA', 15), ('GAGATTAAG', 10), ('AGATTAAGA', 15), ('GATTAAGAG', 6), ('ATTAAGAGA', 22), ('TTAAGAGAT', 13), ('TAAGAGATT', 11), ('AAGAGATTT', 14), ('AGAGATTTA', 7), ('GAGATTTAA', 12), ('AGATTTAAG', 21), ('GATTTAAGA', 13), ('ATTTAAGAG', 3), ('TTTAAGAGA', 29), ('TTAAGAGAT', 13), ('TAAGAGATG', 3), ('AAGAGATGA', 23), ('AGAGATGAA', 17), ('GAGATGAAA', 10), ('AGATGAAAC', 29), ('GATGAAACC', 13), ('ATGAAACCG', 21), ('TGAAACCGC', 10), ('GAAACCGCG', 4), ('AAACCGCGA', 29), ('AACCGCGAC', 23), ('ACCGCGACG', 21), ('CCGCGACGC', 5), ('CGCGACGCT', 1), ('GCGACGCTC', 9), ('CGACGCTCC', 28), ('GACGCTCCA', 19), ('ACGCTCCAA', 19), ('CGCTCCAAG', 21), ('GCTCCAAGA', 22), ('CTCCAAGAG', 0), ('TCCAAGAGA', 12), ('CCAAGAGAT', 27), ('CAAGAGATA', 5), ('AAGAGATAA', 29), ('AGAGATAAG', 28), ('GAGATAAGA', 12), ('AGATAAGAG', 26), ('GATAAGAGA', 18), ('ATAAGAGAT', 6), ('TAAGAGATT', 11), ('AAGAGATTT', 14), ('AGAGATTTT', 27), ('GAGATTTTA', 7), ('AGATTTTAC', 25), ('GATTTTACG', 26), ('ATTTTACGG', 19), ('TTTTACGGT', 14), ('TTTACGGTG', 22), ('TTACGGTGG', 9), ('TACGGTGGA', 21), ('ACGGTGGAA', 13), ('CGGTGGAAA', 25), ('GGTGGAAAA', 2), ('GTGGAAAAA', 22), ('TGGAAAAAG', 1), ('GGAAAAAGA', 2), ('GAAAAAGAG', 30), ('AAAAAGAGA', 17), ('AAAAGAGAT', 19), ('AAAGAGATA', 21), ('AAGAGATAC', 17), ('AGAGATACG', 11), ('GAGATACGC', 30), ('AGATACGCC', 1), ('GATACGCCG', 25), ('ATACGCCGC', 24), ('TACGCCGCC', 12), ('ACGCCGCCT', 24), ('CGCCGCCTT', 15), ('GCCGCCTTT', 16), ('CCGCCTTTG', 21), ('CGCCTTTGG', 5), ('GCCTTTGGT', 8), ('CCTTTGGTG', 17), ('CTTTGGTGG', 3), ('TTTGGTGGC', 19), ('TTGGTGGCC', 18), ('TGGTGGCCT', 25), ('GGTGGCCTA', 12), ('GTGGCCTAG', 16), ('TGGCCTAGG', 25), ('GGCCTAGGC', 28), ('GCCTAGGCT', 18), ('CCTAGGCTG', 11), ('CTAGGCTGA', 0), ('TAGGCTGAG', 10), ('AGGCTGAGT', 25), ('GGCTGAGTA', 29), ('GCTGAGTAA', 11), ('CTGAGTAAG', 5), ('TGAGTAAGA', 29), ('GAGTAAGAG', 16), ('AGTAAGAGA', 23), ('GTAAGAGAT', 5), ('TAAGAGATC', 18), ('AAGAGATCA', 0), ('AGAGATCAA', 0), ('GAGATCAAA', 3), ('AGATCAAAA', 8), ('GATCAAAAT', 7), ('ATCAAAATA', 28), ('TCAAAATAT', 13), ('CAAAATATG', 3), ('AAAATATGG', 18), ('AAATATGGA', 22), ('AATATGGAA', 19), ('ATATGGAAA', 2), ('TATGGAAAG', 6), ('ATGGAAAGA', 29), ('TGGAAAGAA', 3), ('GGAAAGAAG', 4), ('GAAAGAAGA', 6), ('AAAGAAGAG', 11), ('AAGAAGAGA', 5), ('AGAAGAGAT', 13), ('GAAGAGATC', 20), ('AAGAGATCA', 0), ('AGAGATCAA', 0), ('GAGATCAAA', 3), ('AGATCAAAG', 8), ('GATCAAAGA', 19), ('ATCAAAGAG', 7), ('TCAAAGAGA', 5), ('CAAAGAGAT', 28), ('AAAGAGATA', 21), ('AAGAGATAC', 17), ('AGAGATACG', 11), ('GAGATACGA', 21), ('AGATACGAA', 6), ('GATACGAAG', 30), ('ATACGAAGA', 15), ('TACGAAGAG', 13), ('ACGAAGAGA', 11), ('CGAAGAGAT', 7), ('GAAGAGATG', 16), ('AAGAGATGA', 23), ('AGAGATGAA', 17), ('GAGATGAAG', 4), ('AGATGAAGA', 24), ('GATGAAGAG', 16), ('ATGAAGAGA', 14), ('TGAAGAGAT', 30), ('GAAGAGATG', 16), ('AAGAGATGC', 15), ('AGAGATGCC', 24), ('GAGATGCCA', 26), ('AGATGCCAA', 29), ('GATGCCAAA', 16), ('ATGCCAAAT', 11), ('TGCCAAATA', 30), ('GCCAAATAA', 21), ('CCAAATAAG', 15), ('CAAATAAGA', 19), ('AAATAAGAG', 6), ('AATAAGAGA', 9), ('ATAAGAGAT', 6), ('TAAGAGATA', 26), ('AAGAGATAA', 29), ('AGAGATAAG', 28), ('GAGATAAGA', 12), ('AGATAAGAG', 26), ('GATAAGAGA', 18), ('ATAAGAGAT', 6), ('TAAGAGATT', 11), ('AAGAGATTA', 30), ('AGAGATTAA', 15), ('GAGATTAAA', 24), ('AGATTAAAG', 12), ('GATTAAAGA', 14), ('ATTAAAGAG', 21), ('TTAAAGAGA', 15), ('TAAAGAGAT', 14), ('AAAGAGATG', 20), ('AAGAGATGT', 27), ('AGAGATGTC', 0), ('GAGATGTCA', 15), ('AGATGTCAA', 24), ('GATGTCAAG', 29), ('ATGTCAAGA', 26), ('TGTCAAGAG', 7), ('GTCAAGAGA', 0), ('TCAAGAGAT', 6), ('CAAGAGATT', 2), ('AAGAGATTA', 30), ('AGAGATTAA', 15), ('GAGATTAAG', 10), ('AGATTAAGA', 15), ('GATTAAGAA', 17), ('ATTAAGAAA', 22), ('TTAAGAAAG', 25), ('TAAGAAAGA', 23), ('AAGAAAGAG', 20), ('AGAAAGAGA', 0), ('GAAAGAGAT', 5), ('AAAGAGATA', 21), ('AAGAGATAA', 29), ('AGAGATAAG', 28), ('GAGATAAGA', 12), ('AGATAAGAG', 26), ('GATAAGAGA', 18), ('ATAAGAGAT', 6), ('TAAGAGATT', 11), ('AAGAGATTA', 30), ('AGAGATTAC', 8), ('GAGATTACG', 10), ('AGATTACGG', 1), ('GATTACGGA', 17), ('ATTACGGAA', 5), ('TTACGGAAG', 14), ('TACGGAAGA', 25), ('ACGGAAGAG', 29), ('CGGAAGAGA', 0), ('GGAAGAGAT', 8), ('GAAGAGATA', 3), ('AAGAGATAA', 29), ('AGAGATAAG', 28), ('GAGATAAGA', 12), ('AGATAAGAG', 26), ('GATAAGAGA', 18), ('ATAAGAGAT', 6), ('TAAGAGATT', 11), ('AAGAGATTG', 14), ('AGAGATTGC', 12), ('GAGATTGCA', 22), ('AGATTGCAA', 16), ('GATTGCAAG', 30), ('ATTGCAAGA', 2), ('TTGCAAGAG', 22), ('TGCAAGAGA', 13), ('GCAAGAGAT', 25), ('CAAGAGATC', 24), ('AAGAGATCC', 6), ('AGAGATCCT', 6), ('GAGATCCTA', 30), ('AGATCCTAA', 8), ('GATCCTAAA', 17), ('ATCCTAAAG', 1), ('TCCTAAAGA', 15), ('CCTAAAGAG', 4), ('CTAAAGAGA', 28), ('TAAAGAGAT', 14), ('AAAGAGATG', 20), ('AAGAGATGG', 0), ('AGAGATGGG', 20), ('GAGATGGGA', 17), ('AGATGGGAA', 24), ('GATGGGAAG', 19), ('ATGGGAAGA', 25), ('TGGGAAGAG', 8), ('GGGAAGAGA', 29), ('GGAAGAGAT', 8), ('GAAGAGATG', 16), ('AAGAGATGT', 27), ('AGAGATGTC', 0), ('GAGATGTCA', 15), ('AGATGTCAA', 24), ('GATGTCAAG', 29), ('ATGTCAAGA', 26), ('TGTCAAGAG', 7), ('GTCAAGAGA', 0), ('TCAAGAGAT', 6), ('CAAGAGATT', 2), ('AAGAGATTA', 30), ('AGAGATTAA', 15), ('GAGATTAAG', 10), ('AGATTAAGA', 15), ('GATTAAGAG', 6), ('ATTAAGAGA', 22), ('TTAAGAGAT', 13), ('TAAGAGATA', 26), ('AAGAGATAA', 29), ('AGAGATAAG', 28), ('GAGATAAGA', 12), ('AGATAAGAG', 26), ('GATAAGAGA', 18), ('ATAAGAGAT', 6), ('TAAGAGATA', 26), ('AAGAGATAT', 14), ('AGAGATATC', 30), ('GAGATATCA', 28), ('AGATATCAA', 3), ('GATATCAAG', 17), ('ATATCAAGA', 22), ('TATCAAGAG', 6), ('ATCAAGAGA', 16), ('TCAAGAGAT', 6), ('CAAGAGATT', 2), ('AAGAGATTA', 30), ('AGAGATTAA', 15), ('GAGATTAAG', 10), ('AGATTAAGA', 15), ('GATTAAGAG', 6), ('ATTAAGAGA', 22), ('TTAAGAGAT', 13), ('TAAGAGATG', 3), ('AAGAGATGG', 0), ('AGAGATGGT', 9), ('GAGATGGTG', 30), ('AGATGGTGG', 25), ('GATGGTGGC', 6), ('ATGGTGGCA', 8), ('TGGTGGCAA', 9), ('GGTGGCAAG', 0), ('GTGGCAAGA', 27), ('TGGCAAGAG', 22), ('GGCAAGAGA', 28), ('GCAAGAGAT', 25), ('CAAGAGATT', 2), ('AAGAGATTT', 14), ('AGAGATTTG', 9), ('GAGATTTGT', 17), ('AGATTTGTG', 0), ('GATTTGTGG', 25), ('ATTTGTGGA', 22), ('TTTGTGGAT', 0), ('TTGTGGATA', 16), ('TGTGGATAA', 27), ('GTGGATAAG', 28), ('TGGATAAGA', 3), ('GGATAAGAG', 28), ('GATAAGAGA', 18), ('ATAAGAGAT', 6), ('TAAGAGATA', 26), ('AAGAGATAT', 14), ('AGAGATATG', 17), ('GAGATATGA', 16), ('AGATATGAA', 11), ('GATATGAAG', 11), ('ATATGAAGA', 23), ('TATGAAGAG', 14), ('ATGAAGAGA', 14), ('TGAAGAGAT', 30), ('GAAGAGATC', 20), ('AAGAGATCG', 7), ('AGAGATCGA', 18), ('GAGATCGAA', 4), ('AGATCGAAG', 0), ('GATCGAAGA', 14), ('ATCGAAGAG', 30), ('TCGAAGAGA', 28), ('CGAAGAGAT', 7), ('GAAGAGATC', 20), ('AAGAGATCT', 17), ('AGAGATCTA', 1), ('GAGATCTAA', 8), ('AGATCTAAG', 2), ('GATCTAAGA', 11), ('ATCTAAGAG', 1), ('TCTAAGAGA', 7), ('CTAAGAGAT', 26), ('TAAGAGATA', 26), ('AAGAGATAA', 29), ('AGAGATAAG', 28), ('GAGATAAGA', 12), ('AGATAAGAG', 26), ('GATAAGAGA', 18), ('ATAAGAGAT', 6), ('TAAGAGATT', 11), ('AAGAGATTT', 14), ('AGAGATTTC', 11), ('GAGATTTCG', 18), ('AGATTTCGC', 23), ('GATTTCGCA', 11), ('ATTTCGCAC', 11), ('TTTCGCACG', 5), ('TTCGCACGG', 12), ('TCGCACGGC', 5), ('CGCACGGCT', 0), ('GCACGGCTT', 6), ('CACGGCTTA', 16), ('ACGGCTTAA', 5), ('CGGCTTAAG', 6), ('GGCTTAAGA', 21), ('GCTTAAGAG', 19), ('CTTAAGAGA', 2), ('TTAAGAGAT', 13), ('TAAGAGATG', 3), ('AAGAGATGC', 15), ('AGAGATGCG', 28), ('GAGATGCGA', 5), ('AGATGCGAT', 20), ('GATGCGATA', 11), ('ATGCGATAA', 21), ('TGCGATAAG', 30), ('GCGATAAGA', 18), ('CGATAAGAG', 30), ('GATAAGAGA', 18), ('ATAAGAGAT', 6), ('TAAGAGATC', 18), ('AAGAGATCA', 0), ('AGAGATCAA', 0), ('GAGATCAAG', 22), ('AGATCAAGA', 25), ('GATCAAGAG', 14), ('ATCAAGAGA', 16), ('TCAAGAGAT', 6), ('CAAGAGATA', 5), ('AAGAGATAA', 29), ('AGAGATAAG', 28), ('GAGATAAGA', 12), ('AGATAAGAG', 26), ('GATAAGAGA', 18), ('ATAAGAGAT', 6), ('TAAGAGATA', 26), ('AAGAGATAG', 2), ('AGAGATAGA', 17), ('GAGATAGAA', 30), ('AGATAGAAG', 21), ('GATAGAAGA', 24), ('ATAGAAGAG', 1), ('TAGAAGAGA', 9), ('AGAAGAGAT', 13), ('GAAGAGATG', 16), ('AAGAGATGA', 23), ('AGAGATGAA', 17), ('GAGATGAAG', 4), ('AGATGAAGA', 24), ('GATGAAGAG', 16), ('ATGAAGAGA', 14), ('TGAAGAGAT', 30), ('GAAGAGATA', 3), ('AAGAGATAA', 29), ('AGAGATAAG', 28), ('GAGATAAGA', 12), ('AGATAAGAG', 26), ('GATAAGAGA', 18), ('ATAAGAGAT', 6), ('TAAGAGATG', 3), ('AAGAGATGT', 27), ('AGAGATGTG', 13), ('GAGATGTGA', 18), ('AGATGTGAG', 14), ('GATGTGAGA', 0), ('ATGTGAGAT', 29), ('TGTGAGATA', 5), ('GTGAGATAA', 23), ('TGAGATAAG', 2), ('GAGATAAGA', 12), ('AGATAAGAG', 26), ('GATAAGAGA', 18), ('ATAAGAGAT', 6), ('TAAGAGATA', 26), ('AAGAGATAA', 29), ('AGAGATAAG', 28), ('GAGATAAGA', 12), ('AGATAAGAG', 26), ('GATAAGAGA', 18), ('ATAAGAGAT', 6), ('TAAGAGATA', 26), ('AAGAGATAA', 29), ('AGAGATAAG', 28), ('GAGATAAGA', 12), ('AGATAAGAG', 26), ('GATAAGAGA', 18), ('ATAAGAGAT', 6), ('TAAGAGATA', 26), ('AAGAGATAA', 29), ('AGAGATAAG', 28), ('GAGATAAGA', 12), ('AGATAAGAG', 26), ('GATAAGAGA', 18), ('ATAAGAGAT', 6), ('TAAGAGATA', 26), ('AAGAGATAA', 29), ('AGAGATAAG', 28), ('GAGATAAGA', 12), ('AGATAAGAG', 26), ('GATAAGAGA', 18), ('ATAAGAGAT', 6), ('TAAGAGATA', 26), ('AAGAGATAA', 29), ('AGAGATAAA', 26), ('GAGATAAAG', 12), ('AGATAAAGA', 17), ('GATAAAGAG', 28), ('ATAAAGAGA', 10), ('TAAAGAGAT', 14), ('AAAGAGATA', 21), ('AAGAGATAA', 29), ('AGAGATAAA', 26), ('GAGATAAAG', 12), ('AGATAAAGA', 17), ('GATAAAGAG', 28), ('ATAAAGAGA', 10), ('TAAAGAGAT', 14)]\n"
     ]
    },
    {
     "data": {
      "text/plain": [
       "'54 73 110 140 157 208 234 315 322 337 344 351 368 375 402 449 573 611 630 686 767 813 837 858 865 872 879 886 894'"
      ]
     },
     "execution_count": 61,
     "metadata": {},
     "output_type": "execute_result"
    }
   ],
   "source": [
    "def rabin_karp(s, t, prime_number):\n",
    "    \"\"\"\n",
    "    Rabin-Karp algorithm implementation\n",
    "    \"\"\"\n",
    "    t_len = len(t)\n",
    "    t_hash = hash(t) % prime_number\n",
    "    s_hashes = []\n",
    "\n",
    "    # Precompute hash values for substrings of s\n",
    "    for i in range(len(s) - t_len + 1):\n",
    "        s_substring = s[i:i + t_len]\n",
    "        s_hashes.append((s_substring, hash(s_substring)%prime_number))\n",
    "\n",
    "    print(s_hashes)\n",
    "\n",
    "    # Check if hash values match\n",
    "    result = []\n",
    "    for i, (substring, substring_hash) in enumerate(s_hashes):\n",
    "        if substring_hash == t_hash and substring == t:\n",
    "            result.append(i+1)\n",
    "\n",
    "    return \" \".join([str(i) for i in result])\n",
    "\n",
    "rabin_karp(strings[0], strings[1], 31)\n"
   ]
  },
  {
   "cell_type": "code",
   "execution_count": null,
   "metadata": {},
   "outputs": [],
   "source": []
  }
 ],
 "metadata": {
  "kernelspec": {
   "display_name": "Python 3",
   "language": "python",
   "name": "python3"
  },
  "language_info": {
   "codemirror_mode": {
    "name": "ipython",
    "version": 3
   },
   "file_extension": ".py",
   "mimetype": "text/x-python",
   "name": "python",
   "nbconvert_exporter": "python",
   "pygments_lexer": "ipython3",
   "version": "3.10.10"
  },
  "orig_nbformat": 4
 },
 "nbformat": 4,
 "nbformat_minor": 2
}
