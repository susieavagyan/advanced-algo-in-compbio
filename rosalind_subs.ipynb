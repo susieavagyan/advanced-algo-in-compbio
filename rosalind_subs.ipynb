{
 "cells": [
  {
   "cell_type": "code",
   "execution_count": 109,
   "metadata": {},
   "outputs": [],
   "source": [
    "with open(\"C:\\\\Users\\\\Tatevik\\\\Downloads\\\\rosalind_subs (1).txt\") as f:\n",
    "    strings = [line.rstrip() for line in f.readlines()]"
   ]
  },
  {
   "cell_type": "code",
   "execution_count": 110,
   "metadata": {},
   "outputs": [],
   "source": [
    "def rabin_karp(ref, query, b = 4, prime_num = 131, sigma = ['A', 'T', 'G', 'C']):\n",
    "\tN = len(query)\n",
    "\tM = len(ref)\n",
    "\ti = 0\n",
    "\tj = 0\n",
    "\th_q = 0 # hash value of query\n",
    "\th_r = 0  # hash value of reference subsequence\n",
    "\tb_n_1 = 1\n",
    "\tidx = []\n",
    "\n",
    "\tfor i in range(N-1):\n",
    "\t\tb_n_1 = (b_n_1*b) % prime_num\n",
    "\n",
    "\t## ? modulo\n",
    "\tn = len(query)\t\n",
    "\tfor i in range(n):\n",
    "\t\t#(b*(h_r*b_n_1) + sigma.index(ref[i+N])) % prime_num\n",
    "\n",
    "\t\t# this will make trouble for big patterns\n",
    "\t\th_q += sigma.index(query[i])*(b**(n-1))\n",
    "\t\th_r += sigma.index(ref[i])*(b**(n-1))\n",
    "\t\tn -= 1\n",
    "\th_q = h_q % prime_num\n",
    "\th_r = h_r % prime_num\n",
    "\n",
    "\n",
    "\tfor i in range(M-N+1):\n",
    "\t\tif h_q == h_r:\n",
    "\t\t\tfor j in range(N):\n",
    "\t\t\t\tif ref[i+j] != query[j]:\n",
    "\t\t\t\t\tbreak\n",
    "\t\t\t\telse:\n",
    "\t\t\t\t\tj += 1\n",
    "\n",
    "\t\t\tif j == N:\n",
    "\t\t\t\tidx.append(i+1)\n",
    "\n",
    "\n",
    "\t\tif i < M-N:\n",
    "\t\t\th_r = (b*((h_r-sigma.index(ref[i])+prime_num)*b_n_1) + sigma.index(ref[i+N])) % prime_num\n",
    "\n",
    "\t\t\t# if h_r < 0:\n",
    "\t\t\t# \th_r = h_r+prime_num\n",
    "\n",
    "\treturn idx\n"
   ]
  },
  {
   "cell_type": "code",
   "execution_count": 111,
   "metadata": {},
   "outputs": [],
   "source": [
    "ref = strings[0] #'AAATATA'\n",
    "query = strings[1]\n",
    "idx = rabin_karp(ref, query, b = 4, prime_num = 131, sigma = ['A', 'T', 'G', 'C'])"
   ]
  },
  {
   "cell_type": "code",
   "execution_count": 112,
   "metadata": {},
   "outputs": [
    {
     "name": "stdout",
     "output_type": "stream",
     "text": [
      "54\n",
      "88\n",
      "99\n",
      "117\n",
      "291\n",
      "308\n",
      "318\n",
      "384\n",
      "391\n",
      "398\n",
      "444\n",
      "464\n",
      "479\n",
      "486\n",
      "586\n",
      "602\n",
      "609\n",
      "677\n",
      "694\n",
      "701\n",
      "708\n",
      "725\n",
      "746\n",
      "794\n",
      "861\n",
      "876\n",
      "894\n"
     ]
    }
   ],
   "source": [
    "for i in idx:\n",
    "    print(i)"
   ]
  },
  {
   "cell_type": "code",
   "execution_count": null,
   "metadata": {},
   "outputs": [],
   "source": []
  }
 ],
 "metadata": {
  "kernelspec": {
   "display_name": "base 1",
   "language": "python",
   "name": "python3"
  },
  "language_info": {
   "codemirror_mode": {
    "name": "ipython",
    "version": 3
   },
   "file_extension": ".py",
   "mimetype": "text/x-python",
   "name": "python",
   "nbconvert_exporter": "python",
   "pygments_lexer": "ipython3",
   "version": "3.8.8"
  },
  "orig_nbformat": 4,
  "vscode": {
   "interpreter": {
    "hash": "9de985984da8dfb17574444e24fa0e1c4abc9ab8cc2d3e644578c05d50f82108"
   }
  }
 },
 "nbformat": 4,
 "nbformat_minor": 2
}
