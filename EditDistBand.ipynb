{
 "cells": [
  {
   "cell_type": "code",
   "execution_count": 1,
   "metadata": {},
   "outputs": [],
   "source": [
    "from Bio import SeqIO\n",
    "\n",
    "fasta_sequences = SeqIO.parse(open(\"amino_acid_seq.txt\"),'fasta')\n",
    "ls = []\n",
    "for fasta in fasta_sequences:\n",
    "        name, sequence = fasta.id, str(fasta.seq)\n",
    "        ls.append(sequence)\n"
   ]
  },
  {
   "cell_type": "code",
   "execution_count": 2,
   "metadata": {},
   "outputs": [],
   "source": [
    "s,t = ls[0], ls[1]\n",
    "m,n = len(s), len(t)"
   ]
  },
  {
   "cell_type": "code",
   "execution_count": 8,
   "metadata": {},
   "outputs": [],
   "source": [
    "import math\n",
    "\n",
    "def band_DP(s,t,m,n, b=abs(m-n)): # set b to start from the difference in length of two strings so that it initially contains the last cell of regular DP matrix\n",
    "    if b < 0: \n",
    "        ValueError\n",
    "    if b == 0:\n",
    "        b = 1\n",
    "    DP = {}\n",
    "    for i in range(b+1): # fill in the first row and column of the band\n",
    "        DP[i,0] = i\n",
    "        DP[0,i] = i\n",
    "   \n",
    "\n",
    "    # Fill in the DP matrix\n",
    "    for i in range(1, m+1): # iterate i until the length of s\n",
    "        for j in range(1, n+1): # iterate i until the length of t\n",
    "            left = math.inf\n",
    "            up = math.inf\n",
    "            if j >= i - b and i >= j-b: # check to not get out of band's borders\n",
    "                diag = DP[i-1, j-1] + (0 if s[i-1] == t[j-1] else 1)\n",
    "                if i != j - b: # if i equals j-b then we are in the top border, so no value is accessible vertically\n",
    "                    up = DP[i-1, j] + 1\n",
    "                if j != i - b: # if j equals i-b then we are in the bottom border, so no value is accessible horizontally\n",
    "                    left = DP[i, j-1] + 1\n",
    "                DP[i, j] = min(diag, up, left)\n",
    "        \n",
    "    # Check if the last cell of DP matrix is greater than (or equal to?) b\n",
    "    # if all(v >= b for v in DP.values()): # check of DP contaims any values less than b\n",
    "    if (DP[m,n] > b):\n",
    "        print(b)\n",
    "        return band_DP(s,t,m,n,2*b) # call the function with 2*b\n",
    "\n",
    "    edit_distance = DP[m,n]\n",
    "    return edit_distance, DP\n",
    "\n",
    "    \n",
    "    "
   ]
  },
  {
   "cell_type": "code",
   "execution_count": 11,
   "metadata": {},
   "outputs": [
    {
     "name": "stdout",
     "output_type": "stream",
     "text": [
      "1\n",
      "2\n",
      "4\n",
      "8\n",
      "16\n",
      "32\n",
      "64\n",
      "128\n",
      "256\n",
      "512\n"
     ]
    }
   ],
   "source": [
    "ed, DP = band_DP(s,t,m,n)"
   ]
  },
  {
   "cell_type": "code",
   "execution_count": null,
   "metadata": {},
   "outputs": [],
   "source": [
    "import nbformat\n",
    "import plotly.express as px\n",
    "px.imshow(band_dp_list, text_auto=True).show()"
   ]
  },
  {
   "cell_type": "code",
   "execution_count": 20,
   "metadata": {},
   "outputs": [],
   "source": [
    "num_rows = max(key[0] for key in DP.keys()) + 1\n",
    "num_cols = max(key[1] for key in DP.keys()) + 1\n",
    "\n",
    "# Initialize a new list to store the matrix values\n",
    "band_dp_list = []\n",
    "\n",
    "# Loop over each row and column index, and append the corresponding value from the dictionary to the new list\n",
    "for row_idx in range(num_rows):\n",
    "    row = []\n",
    "    for col_idx in range(num_cols):\n",
    "        value = DP.get((row_idx, col_idx), float('inf'))  # get the value from the dictionary, or use 0 if the key is not present\n",
    "        row.append(value)\n",
    "    band_dp_list.append(row)"
   ]
  },
  {
   "cell_type": "code",
   "execution_count": 24,
   "metadata": {},
   "outputs": [
    {
     "name": "stdout",
     "output_type": "stream",
     "text": [
      "Collecting nbformat==4.3.0\n",
      "  Downloading nbformat-4.3.0-py2.py3-none-any.whl (154 kB)\n",
      "     -------------------------------------- 154.8/154.8 kB 1.3 MB/s eta 0:00:00\n",
      "Collecting jsonschema!=2.5.0,>=2.4\n",
      "  Downloading jsonschema-4.17.3-py3-none-any.whl (90 kB)\n",
      "     ---------------------------------------- 90.4/90.4 kB 1.3 MB/s eta 0:00:00\n",
      "Requirement already satisfied: traitlets>=4.1 in c:\\users\\susia\\appdata\\local\\packages\\pythonsoftwarefoundation.python.3.10_qbz5n2kfra8p0\\localcache\\local-packages\\python310\\site-packages (from nbformat==4.3.0) (5.1.1)\n",
      "Collecting ipython-genutils\n",
      "  Using cached ipython_genutils-0.2.0-py2.py3-none-any.whl (26 kB)\n",
      "Requirement already satisfied: jupyter-core in c:\\users\\susia\\appdata\\local\\packages\\pythonsoftwarefoundation.python.3.10_qbz5n2kfra8p0\\localcache\\local-packages\\python310\\site-packages (from nbformat==4.3.0) (4.9.2)\n",
      "Collecting attrs>=17.4.0\n",
      "  Downloading attrs-23.1.0-py3-none-any.whl (61 kB)\n",
      "     ---------------------------------------- 61.2/61.2 kB 1.6 MB/s eta 0:00:00\n",
      "Collecting pyrsistent!=0.17.0,!=0.17.1,!=0.17.2,>=0.14.0\n",
      "  Downloading pyrsistent-0.19.3-cp310-cp310-win_amd64.whl (62 kB)\n",
      "     -------------------------------------- 62.7/62.7 kB 672.8 kB/s eta 0:00:00\n",
      "Requirement already satisfied: pywin32>=1.0 in c:\\users\\susia\\appdata\\local\\packages\\pythonsoftwarefoundation.python.3.10_qbz5n2kfra8p0\\localcache\\local-packages\\python310\\site-packages (from jupyter-core->nbformat==4.3.0) (303)\n",
      "Installing collected packages: ipython-genutils, pyrsistent, attrs, jsonschema, nbformat\n",
      "Successfully installed attrs-23.1.0 ipython-genutils-0.2.0 jsonschema-4.17.3 nbformat-4.3.0 pyrsistent-0.19.3\n"
     ]
    },
    {
     "name": "stderr",
     "output_type": "stream",
     "text": [
      "\n",
      "[notice] A new release of pip is available: 23.0.1 -> 23.1\n",
      "[notice] To update, run: C:\\Users\\susia\\AppData\\Local\\Microsoft\\WindowsApps\\PythonSoftwareFoundation.Python.3.10_qbz5n2kfra8p0\\python.exe -m pip install --upgrade pip\n"
     ]
    }
   ],
   "source": [
    "!pip install nbformat==4.3.0"
   ]
  },
  {
   "cell_type": "code",
   "execution_count": null,
   "metadata": {},
   "outputs": [],
   "source": []
  }
 ],
 "metadata": {
  "kernelspec": {
   "display_name": "Python 3",
   "language": "python",
   "name": "python3"
  },
  "language_info": {
   "codemirror_mode": {
    "name": "ipython",
    "version": 3
   },
   "file_extension": ".py",
   "mimetype": "text/x-python",
   "name": "python",
   "nbconvert_exporter": "python",
   "pygments_lexer": "ipython3",
   "version": "3.10.11"
  },
  "orig_nbformat": 4
 },
 "nbformat": 4,
 "nbformat_minor": 2
}
