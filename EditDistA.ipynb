{
  "nbformat": 4,
  "nbformat_minor": 0,
  "metadata": {
    "colab": {
      "provenance": []
    },
    "kernelspec": {
      "name": "python3",
      "display_name": "Python 3"
    },
    "language_info": {
      "name": "python"
    }
  },
  "cells": [
    {
      "cell_type": "code",
      "source": [
        "from Bio import SeqIO\n",
        "\n",
        "fasta_sequences = SeqIO.parse(open(\"/edita.txt\"),'fasta')\n",
        "dict = {}\n",
        "for fasta in fasta_sequences:\n",
        "        name, sequence = fasta.id, str(fasta.seq)\n",
        "        dict[name] = sequence"
      ],
      "metadata": {
        "id": "3bpyX4jbBzqm"
      },
      "execution_count": 51,
      "outputs": []
    },
    {
      "cell_type": "code",
      "source": [
        "def EditDistance(s, t):\n",
        "  m, n = len(s), len(t)\n",
        "  if m*n==0:\n",
        "    return m+n\n",
        "  DP = [[0 for x in range(n + 1)] for x in range(m + 1)]\n",
        "  for i in range(m+1):\n",
        "    DP[i][0] = i\n",
        "  for j in range(n+1):\n",
        "    DP[0][j] = j\n",
        "  for i in range(1, m+1):\n",
        "    for j in range(1, n+1):\n",
        "      left = DP[i-1][j] + 1\n",
        "      down = DP[i][j-1] + 1\n",
        "      left_down = DP[i-1][j-1]\n",
        "      if s[i-1] != t[j-1]:\n",
        "        left_down += 1\n",
        "      DP[i][j] = min(left, down, left_down)\n",
        "  edit_distance = DP[m][n]\n",
        "  print(edit_distance)\n",
        "\n",
        "  align_s, align_t = \"\", \"\"\n",
        "  i, j = m, n\n",
        "  while (i>0 and j>0):\n",
        "      left = DP[i][j-1]\n",
        "      top = DP[i-1][j]\n",
        "      left_top = DP[i-1][j-1]\n",
        "      min_ = min(left, top, left_top)\n",
        "      if DP[i][j]==min_:\n",
        "          align_s = s[i-1]+align_s\n",
        "          align_t = t[j-1]+align_t\n",
        "          i -= 1\n",
        "          j -= 1\n",
        "      else:\n",
        "          if min_!=left and min_==top:\n",
        "              align_s = s[i-1]+align_s\n",
        "              align_t = \"-\"+align_t\n",
        "              i -= 1\n",
        "          elif min_==left and min_!=top:\n",
        "              align_s = \"-\"+align_s\n",
        "              align_t = t[j-1]+align_t\n",
        "              j -= 1\n",
        "          else: \n",
        "                align_s = s[i-1]+align_s\n",
        "                align_t = t[j-1]+align_t\n",
        "                i -= 1\n",
        "                j -= 1\n",
        "  print(align_s)\n",
        "  print(align_t)\n",
        " \n",
        " \n",
        "EditDistance(list(dict.values())[0], list(dict.values())[1])"
      ],
      "metadata": {
        "colab": {
          "base_uri": "https://localhost:8080/"
        },
        "id": "mlbrd_S-5fgc",
        "outputId": "0602fef4-0f18-488c-f503-6fea420130b0"
      },
      "execution_count": 52,
      "outputs": [
        {
          "output_type": "stream",
          "name": "stdout",
          "text": [
            "449\n",
            "IRMSSREMYQFDSTPVQQGYKKMHGAN---DSCMG----G-------SRKMTTLAH------A---WWNHIQQHMYPC-IFQWPLS----LCK-WVAHLPQMFYYMQ-----IW-PKHCDHHRYMNALFFGQIRPLFNCMAMNDEWQDVIFKRGGTDMGGSECQEIRPMVVGNHNANGGGKAHIFGRQKDWVKSGVYHKCGYTLMARWSIRSMQADPFYLIRTEAKY--MW---HSTY------MEQYKVMPI--ES--EDEETLLDETYGF--CAEVFMVLAIKKRWAVHLCGQW--------GM---KNPMYRCHARR-------E-GKIESMYFIHLFSLMFASELMHGRAH----YRHHGSDT--NKASMTRK------AMI--K-----NAGRRSMPYKGHLYVLEHVDPYKMDRMWAM---TDECQIVHPNHVFPRLWGVKEQPFNCV--------VIAKVMYNMDGSITGDEQVQMK-DMYGVFGMLCRFRGFHVFEHADGPR---DKHRNWN----RCEFQQYAVPSCDVSNADHFYIGAGYQFA-YQTSMR--------FPCKQ-------LKAFADLEKAA-DLEHKNKPRYTFYHTISFQMFGPLSYVFEPQGWKTIIKNDKYCTILFSHKIMCLLRNEMDSSGQVTNQWHRGPSNMAANSYMCSGYIEPDWVPWPIKPSALGNSWCPNQLRITHMRESYEWGKVVLNAMVCIYTPWV---EA----HHKQ------MIHEWMNMCSWWKIGHMGCIFGMLTMRNYGDLSQGSVK--------CCNVRSI------AGGALFCRTKKQWDHCITYHRRTRGIIMMLGYGS-WEQILQCDFSIFPTKPIDNTYSTNPNEFVPRWGIAAELKDLQYFRACADPMISNKYYMGNLMIVCMFFGDIEQYK-ARFTVPQG----HCYVIHNKRLYPDKNWGHFEDDVLNWHMSSSHMI-------CIMYPFF------FWVSKKY-----Q---IGWT\n",
            "SR---NEH-QGY-TPVQQG-KKMNTLDVWMDSCMKCWIEGEMYEMYASRKMTSLAEKMYNDKAYLVWWNHIQQQMYWWMIFQFPLYRDQPLIDEWVAHLPQMFYYMLTYKHHITIPKHCDHMRRMNALFF-----LFHCMAMNDEW-------G-TDMGGR--QNW-PFIE----A-------IEGRQKWWVKSGVYHK--------WNIRSLQADPFYLIRTEAKYENMWWVIHSTGPCPNSCMEQYKVMGSLKECMHEDEETLLMETYGAPLCAEVFMVVAITKRWEWTTVWQIKMFIKSPYGMCQMKNPMYRCHIRRYAGNTVKEPGKIESMYFIHLFSLMFASSLEHGHDLPELGYRHHGSGGARNHASMFRSGHEQLNADIITKPWQWYNAGRRSMPYKGHLYVLEHVHPYKMRRMWAIGGNTTPTDEHQPNHIFPRLWGVKEQPFNCAYDAGCNIWVIAKVMYKMDPSCTGDEQVQMKLDNYGVFGMQ---------EHADGPECMMDKHRN-NSILMRCEEQQYAVPS--------FYIGAMRKSRLYQTRMPMWKWIGWAFHCKVAFVKEKYLKAFADLEKAATDLEHKNKPRSTFYHTISFQMMDRL-----PQGWKTIIKNDKYCW--FDCFWMILFS--MN--GQVTNQWHRGPYLVLIY-NMATANIEPDMVQC-------GMQDRRNQLRITHMRESYEWGK---NAMVCIYWPWFGTIELRLEFHHKHTWHIWVMIHEWMNMCSWWKIGHMGCIE--LTMRNYGDLSQGSVHSDYPILGHCCEVRDVEWDGKNAGGALFCRTKKQSDHCPTYHRMTRYIIMMLGYLFMWEQILQCDFRIFPAKPIDNTTATN--------GIAA-LKDLQYFRACAD--IVNKY-M--------FFGDISWEKGKPKMVC-GAMMWHCYVIHGHTAQ--KA---FEDDVLNWHMSSSHKDAAAVGLNCIMYPFCRPWEKLFWKSKKLGCLKHQPSQIGWT\n"
          ]
        }
      ]
    },
    {
      "cell_type": "code",
      "source": [],
      "metadata": {
        "id": "ZuqjT67ODFXs"
      },
      "execution_count": null,
      "outputs": []
    }
  ]
}