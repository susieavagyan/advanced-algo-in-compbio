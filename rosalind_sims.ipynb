{
 "cells": [
  {
   "cell_type": "code",
   "execution_count": 37,
   "metadata": {},
   "outputs": [],
   "source": [
    "from Bio import SeqIO\n",
    "\n",
    "fasta_sequences = SeqIO.parse(open(\"rosalind_sims (1).txt\"),'fasta')\n",
    "dict = {}\n",
    "for fasta in fasta_sequences:\n",
    "        name, sequence = fasta.id, str(fasta.seq)\n",
    "        dict[name] = sequence\n",
    "\n",
    "s,t = list(dict.values())[1], list(dict.values())[0]\n",
    "m,n = len(s), len(t)"
   ]
  },
  {
   "cell_type": "code",
   "execution_count": 38,
   "metadata": {},
   "outputs": [],
   "source": [
    "# if min(m,n) == m:\n",
    "#     s,t = t,s \n",
    "#     m,n = n,m"
   ]
  },
  {
   "cell_type": "code",
   "execution_count": 39,
   "metadata": {},
   "outputs": [],
   "source": [
    "DP = {}\n",
    "\n",
    "DP[0,0] = 0\n",
    "for i in range(1, m+1):\n",
    "    DP[i,0] = -i\n",
    "    \n",
    "for j in range(1, n+1):\n",
    "    DP[0,j] = 0"
   ]
  },
  {
   "cell_type": "code",
   "execution_count": 40,
   "metadata": {},
   "outputs": [
    {
     "name": "stdout",
     "output_type": "stream",
     "text": [
      "140\n"
     ]
    }
   ],
   "source": [
    "def find_motif(s, t, m, n):\n",
    "  if m*n==0:\n",
    "    return m+n\n",
    "  for i in range(1, m+1):\n",
    "    for j in range(1, n+1):\n",
    "      left = DP[i-1,j] - 1\n",
    "      up = DP[i,j-1] - 1\n",
    "      diag = DP[i-1,j-1] - (1 if s[i-1] != t[j-1] else -1)\n",
    "      DP[i,j] = max(left, up, diag)\n",
    "  df = {k: v for k, v in DP.items() if k[0] == m}\n",
    "  mismatch_score = DP[max(df, key = df.get)]\n",
    "  \n",
    "  print(mismatch_score)\n",
    "\n",
    " \n",
    "find_motif(s,t,m,n)"
   ]
  },
  {
   "cell_type": "code",
   "execution_count": 41,
   "metadata": {},
   "outputs": [],
   "source": [
    "def find_motif_alignment(s, t, m, n):\n",
    "    align_s, align_t = \"\", \"\"\n",
    "    df = {k: v for k, v in DP.items() if k[0] == m}\n",
    "    i,j = max(df, key = df.get)\n",
    "\n",
    "    while (i>0 and j>0):\n",
    "\n",
    "        left = DP[i, j-1]\n",
    "        up = DP[i-1, j]\n",
    "        diag = DP[i-1, j-1]\n",
    "        \n",
    "        if DP[i,j] == diag + 1 and (s[i-1] == t[j-1]):\n",
    "            align_s = s[i-1] + align_s\n",
    "            align_t = t[j-1] + align_t\n",
    "            i -= 1\n",
    "            j -= 1\n",
    "        elif DP[i,j] == diag - 1 and (s[i-1] != t[j-1]):\n",
    "            align_s = s[i-1] + align_s\n",
    "            align_t = t[j-1] + align_t\n",
    "            i -= 1\n",
    "            j -= 1         \n",
    "        elif DP[i,j] == left - 1:\n",
    "            align_s = \"-\" + align_s\n",
    "            align_t = t[j-1] + align_t\n",
    "            j -= 1 \n",
    "        elif DP[i,j] == up - 1:\n",
    "            align_s = s[i-1] + align_s\n",
    "            align_t = \"-\" + align_t\n",
    "            i -= 1 \n",
    "        else:\n",
    "            assert(False)\n",
    "      \n",
    "    print(align_t)\n",
    "    print(align_s)"
   ]
  },
  {
   "cell_type": "code",
   "execution_count": 42,
   "metadata": {},
   "outputs": [
    {
     "name": "stdout",
     "output_type": "stream",
     "text": [
      "GATCATCAACCCGTGCTA-CATCCTACCTAATACCCG--AACGGTAAGCT-CC---CACTTAAAAAGC--CCGGCT-GTCTGG-GTTGCATTACCT-GCTCT-AGCTTTCCCTTCTCTAGTTCTGAACA---CCG-GATCAGAATCATTC-A--TC-TGAAACTAGAGCAGCGAGGACCAGCAACTGGAGCATTCAGTATTGTTA-TACAATCACTCGCAA-AGC-CACACACGTGCCTG-C-CGAGG-G-GCTTTC-A-TGGT---C-CAAGGCTACC-TTTA--TTCATGATGT--CT-TGATGCCATTGGAA-GGGAATAGGAAACACCGCCATCATGTGATCCGATGCACTACTGAGAGGCGCCAACTGTTGGGGCGCCTCAGCCAA-GGAGCAT-CA-ATCCTATGGTGTTCAGACTCCGCGTTGAACATGTA--GATCTCTTTCGTCGCGCAAACGGAAACTTTCGTCCAGTTTG-TCACA-GACATAC-GCTCCCTAA----GG-A-TGCTGTG-CA--ACTCAAGATGTAGTGCT-AC-GTTAGGG-GTTTTCG-CCCTAGTAACATCA-CGTTAAATTGACCAACACCAAGGCTCACTTCTG-GACACACA-TAGACTGC-CG-GCTTTCCACGGTGCCTATTAATGTGAGATGTTTG-ACTTTTAAAGGAACCGGGATCGTCTCAGACAA-T-GCCCTT---ATTAGGCGT---ATGCTC-TTCGCCACGAGATGATTCTAGAGCCAAA-TTGAAT-ATTTTTTGGTCTAGCCGCACGCTCCTAC-CCA-TTGTTCTCAGGTCAGTGTCCTCATTTGTGGTTCTTTTGGGATTCATAGGCTATGA-CAAGTTCCGG-CCACG-GATGTG-GCT--CCACGGGGC-CATA--CGC--CTGTTCT-G-A---T-TCAAGA-TGCA-ACTCAATATCGCGTC-AACTGCTCGCG-G-CTGCATATTTGTTCGCGG-TTGGATCGCGAGACTCGTTCGGCTCGCGGAC-TCACATCTATGAC-CCATCTTGAGGTGTCAGGTGGGATGACACTTCAGCTGGAC--GGTTTGGCCGTTGACA--GG-C--GG-TCCACACG-CAT--ATG-GTCCTA\n",
      "GA--ATCAACGCGTATTACCTTAGTGCC-ACT-GCAGTTAACGG-AA-CTACCGATAACATAACAAGCAACAGTCTACTC-GGAG-AACATCATATGGGTCTGATCTTTCCC--CAC--G-CCTG-GCAGTGCCGCG--CAG---CGTTCAAGGTCGTG-ATC-AGAG--GTAATG--CAGCCACT--ATCAGCCAGCATTTTTAGTGCACTGGGTCG-AAGATCTTACATA-GTTTCGGTCACCTGGTGAGCTGGCAACT-GTAAACTTAA-TCTCCCAACCACGTTCATGAT-TAACTGTCAT--CAAT--AACGGG---AGCCATTA-CG---TCAAGCGA-CCG-TGTGCT-C-GAGA---AAAAAC--CTACGAAGTCT-TGACAACGG-GCCTCCACATCGTA-GGTG---AG--TGCGGGAGGAAAAGGCACGGA---CTTACG--GC-CACGCGGCTACGCTCG-GAAGGGTGCTAACATTACA-ACGGCACTCTAACTCGGGAATTGCTGGGCCAGTTGTCTAGAAGCAAT--TAACAG--CGGGAGGTTTGGACCCCAGTGTCA-AAGCATT---TTG----A-A--GTGG-T-A-TTC-GCGACA-ACAGCCGTCTTCAGGAGC-TGCCAC---G-CTA-T-ATGTG-CATCTTTGTA--TAT-GA-GCATCGGTA-AG-CGCA-A-AATTCGGACTTAAAACTATGCGTCCGATAC-CGTTGGCGA--AG-T-ACTC-AGCGCCAAAGTCGCATGA---GTT-G-CTATCC-CATGC-CCCACACCAGGT-TTC-CTGG--A-CG--CGCA---G-GAAT-AATT---AAT-AAAGCCTAAAAGC-AGTT-GGGTGGA-GTGAGGAGTGATAGCGATTGGGCGCATATCCCCTACTGTACTGGTACGGTATTAGGACTTCACACACACCATCAC-TCTAA-TCCAAGCGTGTCTG-AGA-TTGATAG-GGCTTTGA-C-CTAGA-GAATTCTGCTATC-GCCTTC-C--CTGTG-CGGCA-CTT----T-TCCCGT-CGA--ACAC--CA---GGACAAACTATGATCG-TGACAGGGGACATGGCTCC-CACGAAATCCATGAGTTCTA\n"
     ]
    }
   ],
   "source": [
    "find_motif_alignment(s,t, m, n)"
   ]
  },
  {
   "cell_type": "code",
   "execution_count": null,
   "metadata": {},
   "outputs": [],
   "source": []
  },
  {
   "cell_type": "code",
   "execution_count": null,
   "metadata": {},
   "outputs": [],
   "source": []
  }
 ],
 "metadata": {
  "kernelspec": {
   "display_name": "Python 3",
   "language": "python",
   "name": "python3"
  },
  "language_info": {
   "codemirror_mode": {
    "name": "ipython",
    "version": 3
   },
   "file_extension": ".py",
   "mimetype": "text/x-python",
   "name": "python",
   "nbconvert_exporter": "python",
   "pygments_lexer": "ipython3",
   "version": "3.10.10"
  },
  "orig_nbformat": 4
 },
 "nbformat": 4,
 "nbformat_minor": 2
}
