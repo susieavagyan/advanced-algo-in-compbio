{
 "cells": [
  {
   "cell_type": "code",
   "execution_count": 19,
   "metadata": {},
   "outputs": [],
   "source": [
    "from Bio import SeqIO\n",
    "\n",
    "fasta_sequences = SeqIO.parse(open(\"rosalind_loca_.txt\"),'fasta')\n",
    "dict_ = {}\n",
    "for fasta in fasta_sequences:\n",
    "        name, sequence = fasta.id, str(fasta.seq)\n",
    "        dict_[name] = sequence\n",
    "\n",
    "s,t = list(dict_.values())[0], list(dict_.values())[1]\n",
    "m,n = len(s), len(t)"
   ]
  },
  {
   "cell_type": "code",
   "execution_count": 20,
   "metadata": {},
   "outputs": [],
   "source": [
    "PAM250 = [\n",
    "\t[  2,  -2,   0,   0,  -3,   1,  -1,  -1,  -1,  -2,  -1,   0,   1,   0,  -2,   1,   1,   0,  -6,  -3],\n",
    "\t[ -2,  12,  -5,  -5,  -4,  -3,  -3,  -2,  -5,  -6,  -5,  -4,  -3,  -5,  -4,   0,  -2,  -2,  -8,   0],\n",
    "\t[  0,  -5,   4,   3,  -6,   1,   1,  -2,   0,  -4,  -3,   2,  -1,   2,  -1,   0,   0,  -2,  -7,  -4],\n",
    "\t[  0,  -5,   3,   4,  -5,   0,   1,  -2,   0,  -3,  -2,   1,  -1,   2,  -1,   0,   0,  -2,  -7,  -4],\n",
    "\t[ -3,  -4,  -6,  -5,   9,  -5,  -2,   1,  -5,   2,   0,  -3,  -5,  -5,  -4,  -3,  -3,  -1,   0,   7],\n",
    "\t[  1,  -3,   1,   0,  -5,   5,  -2,  -3,  -2,  -4,  -3,   0,   0,  -1,  -3,   1,   0,  -1,  -7,  -5],\n",
    "\t[ -1,  -3,   1,   1,  -2,  -2,   6,  -2,   0,  -2,  -2,   2,   0,   3,   2,  -1,  -1,  -2,  -3,   0],\n",
    "\t[ -1,  -2,  -2,  -2,   1,  -3,  -2,   5,  -2,   2,   2,  -2,  -2,  -2,  -2,  -1,   0,   4,  -5,  -1],\n",
    "\t[ -1,  -5,   0,   0,  -5,  -2,   0,  -2,   5,  -3,   0,   1,  -1,   1,   3,   0,   0,  -2,  -3,  -4],\n",
    "\t[ -2,  -6,  -4,  -3,   2,  -4,  -2,   2,  -3,   6,   4,  -3,  -3,  -2,  -3,  -3,  -2,   2,  -2,  -1],\n",
    "\t[ -1,  -5,  -3,  -2,   0,  -3,  -2,   2,   0,   4,   6,  -2,  -2,  -1,   0,  -2,  -1,   2,  -4,  -2],\n",
    "\t[  0,  -4,   2,   1,  -3,   0,   2,  -2,   1,  -3,  -2,   2,   0,   1,   0,   1,   0,  -2,  -4,  -2],\n",
    "\t[  1,  -3,  -1,  -1,  -5,   0,   0,  -2,  -1,  -3,  -2,   0,   6,   0,   0,   1,   0,  -1,  -6,  -5],\n",
    "\t[  0,  -5,   2,   2,  -5,  -1,   3,  -2,   1,  -2,  -1,   1,   0,   4,   1,  -1,  -1,  -2,  -5,  -4],\n",
    "\t[ -2,  -4,  -1,  -1,  -4,  -3,   2,  -2,   3,  -3,   0,   0,   0,   1,   6,   0,  -1,  -2,   2,  -4],\n",
    "\t[  1,   0,   0,   0,  -3,   1,  -1,  -1,   0,  -3,  -2,   1,   1,  -1,   0,   2,   1,  -1,  -2,  -3],\n",
    "\t[  1,  -2,   0,   0,  -3,   0,  -1,   0,   0,  -2,  -1,   0,   0,  -1,  -1,   1,   3,   0,  -5,  -3],\n",
    "\t[  0,  -2,  -2,  -2,  -1,  -1,  -2,   4,  -2,   2,   2,  -2,  -1,  -2,  -2,  -1,   0,   4,  -6,  -2],\n",
    "\t[ -6,  -8,  -7,  -7,   0,  -7,  -3,  -5,  -3,  -2,  -4,  -4,  -6,  -5,   2,  -2,  -5,  -6,  17,   0],\n",
    "\t[ -3,   0,  -4,  -4,   7,  -5,   0,  -1,  -4,  -1,  -2,  -2,  -5,  -4,  -4,  -3,  -3,  -2,   0,  10]\n",
    "]\n",
    "PAM250_aa = ['A', 'C', 'D', 'E', 'F', 'G', 'H', 'I', 'K', 'L', 'M', 'N', 'P', 'Q', 'R', 'S', 'T', 'V', 'W', 'Y']\n",
    "PAM250_idx = dict(zip(PAM250_aa, range(len(PAM250_aa))))"
   ]
  },
  {
   "cell_type": "code",
   "execution_count": 21,
   "metadata": {},
   "outputs": [],
   "source": [
    "DP = {}\n",
    "DP[0,0] = 0\n",
    "for i in range(1, m+1):\n",
    "    DP[i,0] = 0\n",
    "for j in range(1, n+1):\n",
    "    DP[0,j] = 0\n",
    "\n",
    "\n",
    "def local_alignment(s,t, m,n):\n",
    "\n",
    "    for i in range(1, m+1):\n",
    "        for j in range(1, n+1):\n",
    "            left = DP[i-1,j] - 5\n",
    "            up = DP[i,j-1] - 5\n",
    "            diag = DP[i-1,j-1] + PAM250[PAM250_idx[s[i-1]]][PAM250_idx[t[j-1]]] \n",
    "\n",
    "            DP[i,j] = max(left, up, diag, 0)\n",
    "         \n",
    "    opt_key = max(DP, key=DP.get)\n",
    "\n",
    "    \n",
    "    return opt_key"
   ]
  },
  {
   "cell_type": "code",
   "execution_count": 22,
   "metadata": {},
   "outputs": [],
   "source": [
    "opt_key = local_alignment(s,t, m,n)"
   ]
  },
  {
   "cell_type": "code",
   "execution_count": 23,
   "metadata": {},
   "outputs": [],
   "source": [
    "def get_alignment(s, t, opt_key, dict):\n",
    "    align_s, align_t = \"\", \"\"\n",
    "    i, j = opt_key\n",
    "\n",
    "    while (i>0 and j>0 and (dict[i,j] != 0)):\n",
    "\n",
    "        left = dict[i, j-1]\n",
    "        up = dict[i-1, j]\n",
    "        diag = dict[i-1, j-1]\n",
    "        if dict[i,j] == up - 5:\n",
    "            align_s = s[i-1] + align_s\n",
    "            i -= 1\n",
    "        elif dict[i,j] == left - 5:\n",
    "            align_t = t[j-1] + align_t\n",
    "            j -= 1        \n",
    "       \n",
    "        elif dict[i,j] == diag + PAM250[PAM250_idx[s[i-1]]][PAM250_idx[t[j-1]]] and (s[i-1] != t[j-1]):\n",
    "            align_s = s[i-1] + align_s\n",
    "            align_t = t[j-1] + align_t\n",
    "            i -= 1\n",
    "            j -= 1\n",
    "\n",
    "        elif dict[i,j] == diag + PAM250[PAM250_idx[s[i-1]]][PAM250_idx[t[j-1]]] and (s[i-1] == t[j-1]):\n",
    "            align_s = s[i-1] + align_s\n",
    "            align_t = t[j-1] + align_t\n",
    "            i -= 1\n",
    "            j -= 1\n",
    "\n",
    "                \n",
    "    print(align_s)\n",
    "    print(align_t)\n"
   ]
  },
  {
   "cell_type": "code",
   "execution_count": 24,
   "metadata": {},
   "outputs": [
    {
     "name": "stdout",
     "output_type": "stream",
     "text": [
      "1225\n",
      "WDYMEMGECRCYGDHPQTNHEECNISPMQGWADNATMGIDKIQEWNHTEITRPACKMVSFKNHNKEKEWAPHGMMGGLMKDKMWGNWGPAWVWMNIMFSLQSQACPVDCHNWRWEVPVLALDHQDEPPNKCREAHRGITFQQIMHPYSKRHYKYRDYNLHNICPQWQAWFHCTPYIITSETCDCMQMQKVEIRKNDYNCTIFYTSMNLTPAPTLCCWEAMILYMTSKHDCKEGGMEQKLNPVNYHIVQLCARPDFPRQVFGDSMVSCRGACHKRGTIMRQQAVYFVCWTFDFSWHCLNNELTQNGRHWNTKHVICDFTVWMSNNKSARDHWMPAQAMWWESRAKKSILKMRMIQNVWDYNPCNLYRMCWGNCQKDGQRIKYVPQECKHNDATRERAWHVPMFALFQTFEEQSCAWLVVCREFNNGVSHAVCGKMGFCYTAISFEARPESGWCVSWKNFSQYPFQDAKSTLAWIQVRNKRVFTLKCHVSTEMSQQDWIRNRAYNYYLYTRAQHMDDTFGRRTFSTMVVPQEWWGQNRMSWVAPQNLFSNEWKPEWHTVVHQYFPRTFWSMNFRTFKDPEDIPNHVNRGPWHVWMLVPNKEMFNWAQWMIEVTKGRDYEHVAICNVVCFWPHKARYMRTRIYAVNWVFPCFNLQQVLWDKSYDNGTVRIDRPPEIKRSHNLRAHVYHRVRDWQKYWQEWSKYPEDTGARHTQAALCFKARNAVRGGISSQRTQTLVHPSNWADVGVNQQHKKNIKRDPWADESNWPFNYSNYWQMWACEHRMNMCVCRSKIDCVMPCFCDCKNDNQMQMTHMTPGVDMWNTQIEFVVDKESNAIYSVEEDLCQPPVARRGRWLNSTYSTHRADPQAW\n",
      "WNEGCVAPCFIRYLNQFTTKKICMFLLTDQFSGHWTKVFQGPSACWQVMEWYACEFGRLNGHQFIGCECSISQLTCCWVIQVSFNTIMTKCHPQLYRDLFWYYFKDFQDCPAIPSAIFQHQSHNLYLEVADPIPNIADYLIWKCEMRLECYDPIYWKPAEVYVPERHWVSKYLQVNCDYYEPFFVRMWRVRDLCNIHNLDVLDAIDEQSQMIYIFENHLWYYWLSGSAYWLPDPGQNAFCWAEWFCVKIAQLNSFHFHTRKGVSFGIVSFRGACGKRGTTMYQQAVSWHCLNNIIDFLMQNFVVYLWYFCPDFTVWMSNNKSAPAQAMWWERAKVAKKGLILKKDYNPCNTYMCWGNCQKDGGRICKGNDADWQFSYRRPNRAWHVPMFALFQTFEGVQQQSVAWLVVCREFNWGFCYTAISFRARPESGWCVSWKNFQDAKSTLAWIQVRNLRVRFIRNRAYNYYLYTRAKHMCDTFGRRTFSTMVVPQEWWGQNDSCMMSHWPGEWEMNFRTFSCPEGPWHVWMLVPNKEMFNWPQWWAEVDKGRDYEHVAICNVVCFWPHKARYMRTRIYAVAWVFMCYFNLLMMKRFGEFQQLAYFGTTGDQQLGNPKHDTYPGGMWKYTAQVIATSIVKMVSADGNYAFDYCFWDRITRRVKDHNWSRLTYHSMEIDCSPRRSQRQYLCQQNKCMVNTDSYRPKDFAHAQPLKWQCGRLVCQCPIISHVCERGIQCTIRVRTMNFWKFKQMSVVQEPSQNHPSEFMGCLCAQWLNFNQCHARQMYEDVQQHFKEQCPQW\n"
     ]
    }
   ],
   "source": [
    "##maximum alignment score\n",
    "print(DP[opt_key])\n",
    "get_alignment(s, t, opt_key, DP)"
   ]
  },
  {
   "cell_type": "code",
   "execution_count": null,
   "metadata": {},
   "outputs": [],
   "source": []
  }
 ],
 "metadata": {
  "kernelspec": {
   "display_name": "base 1",
   "language": "python",
   "name": "python3"
  },
  "language_info": {
   "codemirror_mode": {
    "name": "ipython",
    "version": 3
   },
   "file_extension": ".py",
   "mimetype": "text/x-python",
   "name": "python",
   "nbconvert_exporter": "python",
   "pygments_lexer": "ipython3",
   "version": "3.10.10"
  },
  "orig_nbformat": 4,
  "vscode": {
   "interpreter": {
    "hash": "9de985984da8dfb17574444e24fa0e1c4abc9ab8cc2d3e644578c05d50f82108"
   }
  }
 },
 "nbformat": 4,
 "nbformat_minor": 2
}
