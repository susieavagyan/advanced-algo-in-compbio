{
 "cells": [
  {
   "cell_type": "code",
   "execution_count": 20,
   "metadata": {},
   "outputs": [],
   "source": [
    "from Bio import SeqIO\n",
    "\n",
    "fasta_sequences = SeqIO.parse(open(\"rosalind_ctea_.txt\"),'fasta')\n",
    "dict = {}\n",
    "for fasta in fasta_sequences:\n",
    "        name, sequence = fasta.id, str(fasta.seq)\n",
    "        dict[name] = sequence\n",
    "\n",
    "s,t = list(dict.values())[0], list(dict.values())[1]\n",
    "m,n = len(s), len(t)"
   ]
  },
  {
   "cell_type": "code",
   "execution_count": 21,
   "metadata": {},
   "outputs": [],
   "source": [
    "DP = {}\n",
    "DP[0,0] = 0\n",
    "for i in range(1, m+1):\n",
    "    DP[i,0] = i\n",
    "for j in range(1, n+1):\n",
    "    DP[0,j] = j\n"
   ]
  },
  {
   "cell_type": "code",
   "execution_count": 22,
   "metadata": {},
   "outputs": [
    {
     "name": "stdout",
     "output_type": "stream",
     "text": [
      "443\n"
     ]
    }
   ],
   "source": [
    "def EditDistance(s, t, m, n):\n",
    "  if m*n==0:\n",
    "    return m+n\n",
    "  for i in range(1, m+1):\n",
    "    for j in range(1, n+1):\n",
    "      left = DP[i-1,j] + 1\n",
    "      down = DP[i,j-1] + 1\n",
    "      left_down = DP[i-1,j-1]\n",
    "      if s[i-1] != t[j-1]:\n",
    "        left_down += 1\n",
    "      DP[i,j] = min(left, down, left_down)\n",
    "  edit_distance = DP[m,n]\n",
    "  print(edit_distance)\n",
    "\n",
    " \n",
    "EditDistance(s,t,m,n)"
   ]
  },
  {
   "cell_type": "code",
   "execution_count": 23,
   "metadata": {},
   "outputs": [],
   "source": [
    "optimal_algn = {}\n",
    "def find_optimal(i,j, s, t):\n",
    "    #print(i, j)\n",
    "    if i == 0 or j == 0:\n",
    "        return 1 \n",
    "\n",
    "    if (i,j) in optimal_algn:\n",
    "        return optimal_algn[i,j]\n",
    "\n",
    "    total = 0\n",
    "\n",
    "    if DP[i,j] == DP[i-1, j] + 1:\n",
    "        total += find_optimal(i-1, j, s, t)\n",
    "\n",
    "    if DP[i,j] == DP[i, j-1] + 1:\n",
    "        total += find_optimal(i, j-1, s, t)    \n",
    "        \n",
    "    if DP[i,j] == DP[i-1, j-1] + 1 and (s[i-1] != t[j-1]):\n",
    "        total += find_optimal(i-1, j-1, s, t)\n",
    "        \n",
    "    if DP[i,j] == DP[i-1, j-1] and (s[i-1] == t[j-1]):\n",
    "        total += find_optimal(i-1, j-1, s, t)\n",
    "    \n",
    "    optimal_algn[(i,j)] =  total % (2**27 - 1)\n",
    "\n",
    "    return optimal_algn[(i,j)]"
   ]
  },
  {
   "cell_type": "code",
   "execution_count": 24,
   "metadata": {},
   "outputs": [
    {
     "data": {
      "text/plain": [
       "36445451"
      ]
     },
     "execution_count": 24,
     "metadata": {},
     "output_type": "execute_result"
    }
   ],
   "source": [
    "find_optimal(m,n, s, t)"
   ]
  },
  {
   "cell_type": "code",
   "execution_count": null,
   "metadata": {},
   "outputs": [],
   "source": []
  }
 ],
 "metadata": {
  "kernelspec": {
   "display_name": "Python 3",
   "language": "python",
   "name": "python3"
  },
  "language_info": {
   "codemirror_mode": {
    "name": "ipython",
    "version": 3
   },
   "file_extension": ".py",
   "mimetype": "text/x-python",
   "name": "python",
   "nbconvert_exporter": "python",
   "pygments_lexer": "ipython3",
   "version": "3.10.10"
  },
  "orig_nbformat": 4,
  "vscode": {
   "interpreter": {
    "hash": "c946b6da0c9de0a238e1bbdd636987c49e8bec465511460a35c3497dde538340"
   }
  }
 },
 "nbformat": 4,
 "nbformat_minor": 2
}
