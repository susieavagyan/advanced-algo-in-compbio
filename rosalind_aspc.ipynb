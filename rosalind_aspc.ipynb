{
 "cells": [
  {
   "cell_type": "code",
   "execution_count": null,
   "metadata": {},
   "outputs": [],
   "source": [
    "ints = open(\"C:\\\\Users\\\\Tatevik\\\\Downloads\\\\rosalind_aspc.txt\").read()\n",
    "n, m = map(int, ints.strip().split())"
   ]
  },
  {
   "cell_type": "code",
   "execution_count": null,
   "metadata": {},
   "outputs": [],
   "source": [
    "import math\n",
    "\n",
    "sum = 0\n",
    "for k in range(m,n+1):\n",
    "  comb = math.factorial(n)//(math.factorial(k)*math.factorial(n-k))\n",
    "  sum += comb\n",
    "modulo_ = sum%1000000\n",
    "modulo_"
   ]
  }
 ],
 "metadata": {
  "kernelspec": {
   "display_name": "base 1",
   "language": "python",
   "name": "python3"
  },
  "language_info": {
   "name": "python",
   "version": "3.8.8 (default, Feb 24 2021, 15:54:32) [MSC v.1928 64 bit (AMD64)]"
  },
  "orig_nbformat": 4,
  "vscode": {
   "interpreter": {
    "hash": "9de985984da8dfb17574444e24fa0e1c4abc9ab8cc2d3e644578c05d50f82108"
   }
  }
 },
 "nbformat": 4,
 "nbformat_minor": 2
}
