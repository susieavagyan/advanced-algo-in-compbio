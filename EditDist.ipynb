{
  "nbformat": 4,
  "nbformat_minor": 0,
  "metadata": {
    "colab": {
      "provenance": []
    },
    "kernelspec": {
      "name": "python3",
      "display_name": "Python 3"
    },
    "language_info": {
      "name": "python"
    }
  },
  "cells": [
    {
      "cell_type": "code",
      "source": [
        "from Bio import SeqIO\n",
        "\n",
        "fasta_sequences = SeqIO.parse(open(\"/edit.txt\"),'fasta')\n",
        "dict = {}\n",
        "for fasta in fasta_sequences:\n",
        "        name, sequence = fasta.id, str(fasta.seq)\n",
        "        dict[name] = sequence"
      ],
      "metadata": {
        "id": "3bpyX4jbBzqm"
      },
      "execution_count": 38,
      "outputs": []
    },
    {
      "cell_type": "code",
      "source": [
        "def EditDistance(s, t):\n",
        "  m, n = len(s), len(t)\n",
        "  if m*n==0:\n",
        "    return m+n\n",
        "  DP = [[0 for x in range(n + 1)] for x in range(m + 1)]\n",
        "  for i in range(m+1):\n",
        "    DP[i][0] = i\n",
        "  for j in range(n+1):\n",
        "    DP[0][j] = j\n",
        "  for i in range(1, m+1):\n",
        "    for j in range(1, n+1):\n",
        "      left = DP[i-1][j] + 1\n",
        "      down = DP[i][j-1] + 1\n",
        "      left_down = DP[i-1][j-1]\n",
        "      if s[i-1] != t[j-1]:\n",
        "        left_down += 1\n",
        "      DP[i][j] = min(left, down, left_down)\n",
        "  edit_distance = DP[m][n]\n",
        "  print(edit_distance)\n",
        " \n",
        " \n",
        "EditDistance(list(dict.values())[0], list(dict.values())[1])"
      ],
      "metadata": {
        "colab": {
          "base_uri": "https://localhost:8080/"
        },
        "id": "mlbrd_S-5fgc",
        "outputId": "24e412a8-0a50-453c-b413-e206d22d7ae6"
      },
      "execution_count": 40,
      "outputs": [
        {
          "output_type": "stream",
          "name": "stdout",
          "text": [
            "375\n"
          ]
        }
      ]
    },
    {
      "cell_type": "code",
      "source": [],
      "metadata": {
        "id": "ZuqjT67ODFXs"
      },
      "execution_count": null,
      "outputs": []
    }
  ]
}