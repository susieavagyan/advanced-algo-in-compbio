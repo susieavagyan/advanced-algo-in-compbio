{
 "cells": [
  {
   "cell_type": "code",
   "execution_count": 4,
   "metadata": {},
   "outputs": [],
   "source": [
    "s = 'CGCTCCTATCGTTGGTAACCCCGGACACAGTTGAATCGCCGTGCCGGCCCATAGATGACTACTTTCTCGTCTACGCGAAATCAGACGCGTATGCATCCGTACCCGGTCTGCATAGGTGGACGGTCTGGCGTTTCGCTTTTTGCCAGCGAGCCCGCCAGACATAAAAGCACCAATCACATTAAGATTTCCGGGTCGGGAATCAAAGACTAACCTGACGCGAGTTACTGACGGGGGTGTTATCCTGGGTCCCCTCCTTCAAGCGTAAGTGTTGCCCATGGGGCAACATGCGTTTAATAAGCAACACGTGAAGTGCAGAGACTAAGGCCAATGCGGTTTTTGCTTGATTTGGATGGCAACGCGCGCATTCCAATGAGTCTTGGAGCGCAAAGGGCCCGAGTTAGTGCCTTAGACTCGTGGCCCGAGTTTCGAACTCAAAGTAGACTGATAGTAGATTCCTGGTTGACGTAAGCCGAGAGATACGTCGCCCGGGTCGCTGTGCGATCCCGTCCTCCTATACTTTCTTGTTGGCTCAGTCGTGTAGTTACTGGCTCATGGACGGTATGACGCTAAGTCAGCTATGGTACTGACTGCTGGGCCAAGCCACGTCCAGTCTTTTCCGGTACAAGTTCGCAAAGGCCCACACCAGCCAACCTCGGATTTCGCTTTACCAAGAAACGAATATTACGGCGGGGGCCCCCACATGAGAATATCGTAGGTAGGAGCGATTGAGAACAACGTTGGAGGACGTAAGGGTTCGGGGGCCGCGGTACAGTTGGGATGCTCGGTGACCCGTTACGGGTGCCGTGGGAGCATTGCCCATCATGCCATGGTTGTGTCTAGGCTACCCCCAATGACGTCCTTATTGGCCCGCTGTAGGCGATCAGCGGCATGGAAATTG'"
   ]
  },
  {
   "cell_type": "code",
   "execution_count": 5,
   "metadata": {},
   "outputs": [
    {
     "name": "stdout",
     "output_type": "stream",
     "text": [
      "198 232 255 213\n"
     ]
    }
   ],
   "source": [
    "print(s.count(\"A\"), s.count(\"C\"), s.count(\"G\"), s.count(\"T\"))"
   ]
  },
  {
   "cell_type": "code",
   "execution_count": null,
   "metadata": {},
   "outputs": [],
   "source": []
  }
 ],
 "metadata": {
  "kernelspec": {
   "display_name": "base 1",
   "language": "python",
   "name": "python3"
  },
  "language_info": {
   "codemirror_mode": {
    "name": "ipython",
    "version": 3
   },
   "file_extension": ".py",
   "mimetype": "text/x-python",
   "name": "python",
   "nbconvert_exporter": "python",
   "pygments_lexer": "ipython3",
   "version": "3.8.8"
  },
  "orig_nbformat": 4,
  "vscode": {
   "interpreter": {
    "hash": "9de985984da8dfb17574444e24fa0e1c4abc9ab8cc2d3e644578c05d50f82108"
   }
  }
 },
 "nbformat": 4,
 "nbformat_minor": 2
}