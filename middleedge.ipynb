{
 "cells": [
  {
   "cell_type": "code",
   "execution_count": 55,
   "metadata": {},
   "outputs": [],
   "source": [
    "with open(\"rosalind_ba5k.txt\") as f:\n",
    "    strings = [line.rstrip() for line in f.readlines()]\n",
    "\n",
    "s,t = strings[0], strings[1]\n",
    "m,n = len(s), len(t)"
   ]
  },
  {
   "cell_type": "code",
   "execution_count": 56,
   "metadata": {},
   "outputs": [
    {
     "data": {
      "text/plain": [
       "['WKRMCNYKAPNWNNILVRRKNFIKQNIAFVSYMFMHSFYDERFEWENYYALQNWAKWCCFNWAWTEFAEHQHNPAPERVGQNGTCTLYPDQLCKMWRLPIFWFIKKAMVFADGLGMDTSQYFHYLFRPNAQRNFGKDWLTAKCMNLCKCEAMGFGNVEYYSIHTQIGHWNYSFYRCGNWVNPNVEVIIMKFWEAAKPTWPCWPRLDWLLEVGAVCEMCCHNARTFGHHWVKSAKWECHGMFRYKNYRPNKAPCCKHDYKGRDRKTRADMMADITILNAFKCMTLWRIQEMFLVTRSEMHYSMMNKTTEQWNETSIMMKADLACQICRTPEETNSSWCYCEVYGTEKADEIMWPSFKYRIANFSNTGHWSQPKMEGGMYSEKELFKIKHRCEPNNWGHAQHKWACYQKCNWYKGALQSTCEDKQRILHTFEYWVLVFQIHPPPESACDKVDMKWPTRLHIPNVVNWQRFINYRRNPCDVEFYAIYRNGQKITKMQDYIMANLMNRWYINMHCPQWSNYYGSNFVCALPDRVCPPTECWMDVDEHWPKSSIATFDANILFMYKQGYGFTCGDVDGGFSWCIFCNSRCPHWNCGMKYALSYIEEKRVAYSMGALACTMHLRKDQGYHNRHCDGRLPFPFNMMCITPRSDVKKDVCKDRTLPHFNGDTAAEEELINMLNACVPVQPTEGKQRDEERDWYFVANCNIETDQIDMITGGVPDDAHCCIRDRSMACYFLCTRAKSHYKTMEWVDLMANVYGWQVRRQFKAIPGMYEPGFRECNFMKPQDVNTWLHFEAFDETRFNPHDRGVFAPVQTHWFWQKHHVMTFDYFIFNCPHLQSCKRPCINGMPKCMEFFLKKDTNHRCMMQNDYLIVHTCHVWNTNSGWYVFKKHGNLGQSNVYICCFFNMWHCHFYRKEMCRMLVTDNHQCLFKYFPWGMSDSSAWNQEHSTGIWPLVPWMYTCYYQPNCDIVYKKSAPLMMCEGMVYDYEPSENMYANRCWVHYMNERTSCNTHDDACVNWSYDVEHWCPFSKKIAHSAERQ',\n",
       " 'TDPKTPNPEEHVVEKIEWWYSRSSTEACPSEMPLSGGYLNARAWVTMHREFDYQPQKLMHDCANDWMQGLWVRRKLFKPHMWNVDSSNAVWKKYDQIDGGIACQIGEIVVQLVKYTGKYKYIYDYENEWRNWNAGIFFFLSHTDQSFVCVHMNTTKNSVYLKTWYFRCKDENMACWQLCWCTDTVIGKGRAQCRGICNGEPFMMDWLAAMKLAWCCETCMWQRADHTNEHVILERAMIQWVSTFISDPYMGHGDRGFAIQSGIVVALDRALHMGSRVTPKPWLCNFFCGHTVNNNGGTHVFHSGFFENMDKPAWPPNGFYRRPCVKCYQNDCWIYLGSNSIFRIVSEPQARELLLIYWVQLLHCRCGMMPQIYYSGDWTSFKTLMHQTPHRVGSVGLYDRITTCVVINIYLHDPVIGINDDSAKFRHSHEQSCIDSDPMRVYYYHQKNDGMKWPTRVSSFKPYEWFRYNDFIPNNWFTKLNNVVQMFNQLVKVATMYIEGYINYRRNCCDVEFYAIMREGQKKTKMQGNIMANLMNRWYINMSCPQWSHYYGSNFVCALPDRVCPPNECWMDVDEHWPKDANCLCMGFTCGCEFCNSRCNAMTHTIVSNDLLINCHWHFQGYTGKPPPWPMAFFERKLTEKLPYCRQPGSPQLDASEPGSDCAQVVLDPHKVIYKLDKRMRLPSLVYWDRGGLMYWTEARTLIQNRMPNFYRYVAAPPHRKPHTIHTFQINETQEDNPGPAINMLVYKRPREAHKRINRKECCATFMFPIKAFVLKKLMPASVVAVTHAYTTMEGAGNGSNYMRMGTLSEPGLTAQCWPPWNGNYQMTWTPMVRKNTNMDKQDLTAYSLAFPLGRLCIGKQMNTDQHFTSHFNFPMVCCRDCMWPEFFMRVGCTCKGKNACLPRIRLNHGWFLRWAPIQDYVHDSYGQPSEHPYLVNYNQYFLCFPGAPMMTCDFTFDHLQNQPALEGHYVFCVHSCIASGLEYYPVKDAYQLQWPQNLTLWIQEPGGAKWESLNYYMDTMSCIKLASVSPRKAQRSIFRNIFIFPRHP']"
      ]
     },
     "execution_count": 56,
     "metadata": {},
     "output_type": "execute_result"
    }
   ],
   "source": [
    "strings"
   ]
  },
  {
   "cell_type": "code",
   "execution_count": 57,
   "metadata": {},
   "outputs": [],
   "source": [
    "blosum62 = [    \n",
    "    [4, 0, -2, -1, -2, 0, -2, -1, -1, -1, -1, -2, -1, -1, -1, 1, 0, 0, -3, -2],\n",
    "    [0, 9, -3, -4, -2, -3, -3, -1, -3, -1, -1, -3, -3, -3, -3, -1, -1, -1, -2, -2],\n",
    "    [-2, -3, 6, 2, -3, -1, -1, -3, -1, -4, -3, 1, -1, 0, -2, 0, -1, -3, -4, -3],\n",
    "    [-1, -4, 2, 5, -3, -2, 0, -3, 1, -3, -2, 0, -1, 2, 0, 0, -1, -2, -3, -2],\n",
    "    [-2, -2, -3, -3, 6, -3, -1, 0, -3, 0, 0, -3, -4, -3, -3, -2, -2, -1, 1, 3],\n",
    "    [0, -3, -1, -2, -3, 6, -2, -4, -2, -4, -3, 0, -2, -2, -2, 0, -2, -3, -2, -3],\n",
    "    [-2, -3, -1, 0, -1, -2, 8, -3, -1, -3, -2, 1, -2, 0, 0, -1, -2, -3, -2, 2],\n",
    "    [-1, -1, -3, -3, 0, -4, -3, 4, -3, 2, 1, -3, -3, -3, -3, -2, -1, 3, -3, -1],\n",
    "    [-1, -3, -1, 1, -3, -2, -1, -3, 5, -2, -1, 0, -1, 1, 2, 0, -1, -2, -3, -2],\n",
    "    [-1, -1, -4, -3, 0, -4, -3, 2, -2, 4, 2, -3, -3, -2, -2, -2, -1, 1, -2, -1],\n",
    "    [-1, -1, -3, -2, 0, -3, -2, 1, -1, 2, 5, -2, -2, 0, -1, -1, -1, 1, -1, -1],\n",
    "    [-2, -3, 1, 0, -3, 0, 1, -3, 0, -3, -2, 6, -2, 0, 0, 1, 0, -3, -4, -2],\n",
    "    [-1, -3, -1, -1, -4, -2, -2, -3, -1, -3, -2, -2, 7, -1, -2, -1, -1, -2, -4, -3],\n",
    "    [-1, -3, 0, 2, -3, -2, 0, -3, 1, -2, 0, 0, -1, 5, 1, 0, -1, -2, -2, -1],\n",
    "    [-1, -3, -2,  0, -3, -2, 0, -3, 2, -2, -1,  0, -2, 1, 5, -1, -1, -3, -3, -2],\n",
    "    [1, -1, 0, 0, -2, 0, -1, -2, 0, -2, -1, 1, -1, 0, -1, 4, 1, -2, -3, -2], \n",
    "    [0, -1, -1, -1, -2, -2, -2, -1, -1, -1, -1, 0, -1, -1, -1, 1, 5, 0, -2, -2],\n",
    "    [0, -1, -3, -2, -1, -3, -3, 3, -2, 1, 1, -3, -2, -2, -3, -2, 0, 4, -3, -1],\n",
    "    [-3, -2, -4, -3, 1, -2, -2, -3, -3, -2, -1, -4, -4, -2, -3, -3, -2, -3, 11, 2],\n",
    "    [-2, -2, -3, -2,  3, -3, 2, -1, -2, -1, -1, -2, -3, -1, -2, -2, -2, -1,  2, 7]]\n",
    "blosum62_aa = ['A', 'C', 'D', 'E', 'F', 'G', 'H', 'I', 'K', 'L', 'M', 'N', 'P', 'Q', 'R', 'S', 'T', 'V', 'W', 'Y']\n",
    "blosum62_idx = dict(zip(blosum62_aa, range(len(blosum62_aa))))"
   ]
  },
  {
   "cell_type": "code",
   "execution_count": null,
   "metadata": {},
   "outputs": [],
   "source": [
    "## implement the approach by filling the DP by current and previous rows"
   ]
  },
  {
   "cell_type": "code",
   "execution_count": 58,
   "metadata": {},
   "outputs": [],
   "source": [
    "DP = {}\n",
    "DP[0,0] = 0\n",
    "for i in range(1, m+1):\n",
    "    DP[i,0] = 0\n",
    "for j in range(1, n+1):\n",
    "    DP[0,j] = 0\n",
    "\n",
    "\n",
    "def alignment(s,t, m,n):\n",
    "    for i in range(1, m+1):\n",
    "        for j in range(1, n+1):\n",
    "            left = DP[i-1,j] - 5\n",
    "            up = DP[i,j-1] - 5\n",
    "            diag = DP[i-1,j-1] + blosum62[blosum62_idx[s[i-1]]][blosum62_idx[t[j-1]]] \n",
    "            DP[i,j] = max(left, up, diag, 0)\n",
    "         \n",
    "    opt_key = max(DP, key=DP.get)\n",
    "\n",
    "    \n",
    "    return opt_key"
   ]
  },
  {
   "cell_type": "code",
   "execution_count": 61,
   "metadata": {},
   "outputs": [
    {
     "ename": "KeyError",
     "evalue": "0",
     "output_type": "error",
     "traceback": [
      "\u001b[1;31m---------------------------------------------------------------------------\u001b[0m",
      "\u001b[1;31mKeyError\u001b[0m                                  Traceback (most recent call last)",
      "\u001b[1;32mc:\\Users\\susia\\RAU\\CompBioAlgo\\rosalind\\rosalind\\middleedge.ipynb Cell 5\u001b[0m in \u001b[0;36m<module>\u001b[1;34m\u001b[0m\n\u001b[0;32m      <a href='vscode-notebook-cell:/c%3A/Users/susia/RAU/CompBioAlgo/rosalind/rosalind/middleedge.ipynb#X26sZmlsZQ%3D%3D?line=0'>1</a>\u001b[0m \u001b[39mfor\u001b[39;00m i \u001b[39min\u001b[39;00m \u001b[39mrange\u001b[39m(\u001b[39m1\u001b[39m,m\u001b[39m-\u001b[39m\u001b[39m1\u001b[39m):\n\u001b[1;32m----> <a href='vscode-notebook-cell:/c%3A/Users/susia/RAU/CompBioAlgo/rosalind/rosalind/middleedge.ipynb#X26sZmlsZQ%3D%3D?line=1'>2</a>\u001b[0m     DP[i][\u001b[39m0\u001b[39m] \u001b[39m=\u001b[39m DP[i\u001b[39m-\u001b[39;49m\u001b[39m1\u001b[39;49m][\u001b[39m0\u001b[39m] \u001b[39m+\u001b[39m DP[i][\u001b[39m0\u001b[39m]\n\u001b[0;32m      <a href='vscode-notebook-cell:/c%3A/Users/susia/RAU/CompBioAlgo/rosalind/rosalind/middleedge.ipynb#X26sZmlsZQ%3D%3D?line=2'>3</a>\u001b[0m     \u001b[39mfor\u001b[39;00m j \u001b[39min\u001b[39;00m \u001b[39mrange\u001b[39m(\u001b[39m1\u001b[39m,n\u001b[39m-\u001b[39m\u001b[39m1\u001b[39m):\n\u001b[0;32m      <a href='vscode-notebook-cell:/c%3A/Users/susia/RAU/CompBioAlgo/rosalind/rosalind/middleedge.ipynb#X26sZmlsZQ%3D%3D?line=3'>4</a>\u001b[0m         DP[i][j] \u001b[39m=\u001b[39m \u001b[39mmax\u001b[39m(DP[i\u001b[39m-\u001b[39m\u001b[39m1\u001b[39m][j], DP[i][j\u001b[39m-\u001b[39m\u001b[39m1\u001b[39m]) \u001b[39m+\u001b[39m DP[i][j]\n",
      "\u001b[1;31mKeyError\u001b[0m: 0"
     ]
    }
   ],
   "source": [
    "for i in range(1,m-1):\n",
    "    DP[i][0] = DP[i-1][0] + DP[i][0]\n",
    "    for j in range(1,n-1):\n",
    "        DP[i][j] = max(DP[i-1][j], DP[i][j-1]) + DP[i][j]\n"
   ]
  },
  {
   "cell_type": "code",
   "execution_count": 51,
   "metadata": {},
   "outputs": [
    {
     "data": {
      "text/plain": [
       "(921, 959)"
      ]
     },
     "execution_count": 51,
     "metadata": {},
     "output_type": "execute_result"
    }
   ],
   "source": [
    "alignment(s,t,m,n)"
   ]
  },
  {
   "cell_type": "code",
   "execution_count": 52,
   "metadata": {},
   "outputs": [],
   "source": [
    "DP_mid = {k: v for k, v in DP.items() if k[1] == n//2}"
   ]
  },
  {
   "cell_type": "code",
   "execution_count": 53,
   "metadata": {},
   "outputs": [],
   "source": [
    "m1 = max(DP_mid, key = DP_mid.get)\n",
    "m2_cand = [(m1[0]+1,m1[1]), (m1[0]+1,m1[1]+1), (m1[0],m1[1]+1)]\n",
    "m2_dict = {key: DP[key] for key in m2_cand}\n",
    "m2 = max(m2_dict, key=m2_dict.get)\n",
    "\n",
    "\n",
    "    \n",
    "\n"
   ]
  },
  {
   "cell_type": "code",
   "execution_count": 54,
   "metadata": {},
   "outputs": [
    {
     "data": {
      "text/plain": [
       "((491, 524), (492, 525))"
      ]
     },
     "execution_count": 54,
     "metadata": {},
     "output_type": "execute_result"
    }
   ],
   "source": [
    "m1, m2"
   ]
  },
  {
   "cell_type": "code",
   "execution_count": null,
   "metadata": {},
   "outputs": [],
   "source": []
  }
 ],
 "metadata": {
  "kernelspec": {
   "display_name": "Python 3",
   "language": "python",
   "name": "python3"
  },
  "language_info": {
   "codemirror_mode": {
    "name": "ipython",
    "version": 3
   },
   "file_extension": ".py",
   "mimetype": "text/x-python",
   "name": "python",
   "nbconvert_exporter": "python",
   "pygments_lexer": "ipython3",
   "version": "3.10.10"
  },
  "orig_nbformat": 4
 },
 "nbformat": 4,
 "nbformat_minor": 2
}
